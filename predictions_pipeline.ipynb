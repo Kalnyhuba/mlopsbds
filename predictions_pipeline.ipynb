{
 "cells": [
  {
   "cell_type": "code",
   "execution_count": 1,
   "metadata": {},
   "outputs": [
    {
     "name": "stderr",
     "output_type": "stream",
     "text": [
      "C:\\Users\\hubak\\AppData\\Local\\Packages\\PythonSoftwareFoundation.Python.3.11_qbz5n2kfra8p0\\LocalCache\\local-packages\\Python311\\site-packages\\tqdm\\auto.py:21: TqdmWarning: IProgress not found. Please update jupyter and ipywidgets. See https://ipywidgets.readthedocs.io/en/stable/user_install.html\n",
      "  from .autonotebook import tqdm as notebook_tqdm\n"
     ]
    },
    {
     "name": "stdout",
     "output_type": "stream",
     "text": [
      "Connected. Call `.close()` to terminate connection gracefully.\n",
      "\n",
      "Logged in to project, explore it here https://c.app.hopsworks.ai:443/p/556181\n",
      "Connected. Call `.close()` to terminate connection gracefully.\n",
      "Connected. Call `.close()` to terminate connection gracefully.\n"
     ]
    }
   ],
   "source": [
    "import hopsworks\n",
    "\n",
    "project = hopsworks.login()\n",
    "\n",
    "fs = project.get_feature_store()\n",
    "mr = project.get_model_registry()"
   ]
  },
  {
   "cell_type": "code",
   "execution_count": 2,
   "metadata": {},
   "outputs": [],
   "source": [
    "feature_view = fs.get_feature_view(\n",
    "    name='bitcoin_training_fv',\n",
    "    version=1\n",
    ")"
   ]
  },
  {
   "cell_type": "code",
   "execution_count": 3,
   "metadata": {},
   "outputs": [
    {
     "name": "stdout",
     "output_type": "stream",
     "text": [
      "Downloading model artifact (0 dirs, 3 files)... DONE\r"
     ]
    }
   ],
   "source": [
    "import joblib\n",
    "model = mr.get_model(\n",
    "    name=\"bitcoin_price_prediction_model\", \n",
    "    version=1\n",
    ")\n",
    "\n",
    "saved_model_dir = model.download()\n",
    "\n",
    "xgboost_model = joblib.load(saved_model_dir + \"/bitcoin_price_prediction_model.pkl\")"
   ]
  },
  {
   "cell_type": "code",
   "execution_count": 4,
   "metadata": {},
   "outputs": [],
   "source": [
    "bitcoin_fg = fs.get_feature_group(\n",
    "    name='bitcoin_price',\n",
    "    version=2,\n",
    ")"
   ]
  },
  {
   "cell_type": "code",
   "execution_count": 5,
   "metadata": {},
   "outputs": [],
   "source": [
    "data = bitcoin_fg.select_all()\n",
    "version = 1 \n",
    "feature_view = fs.get_or_create_feature_view(\n",
    "    name='bitcoin_training_fv',\n",
    "    version=version,\n",
    "    query=data\n",
    ")"
   ]
  },
  {
   "cell_type": "code",
   "execution_count": 6,
   "metadata": {},
   "outputs": [
    {
     "name": "stdout",
     "output_type": "stream",
     "text": [
      "Finished: Reading data from Hopsworks, using ArrowFlight (1.12s) \n"
     ]
    }
   ],
   "source": [
    "df = feature_view.get_batch_data()"
   ]
  },
  {
   "cell_type": "code",
   "execution_count": 7,
   "metadata": {},
   "outputs": [],
   "source": [
    "sorted_df = df.sort_values(by='timestamp')"
   ]
  },
  {
   "cell_type": "code",
   "execution_count": 8,
   "metadata": {},
   "outputs": [
    {
     "data": {
      "text/html": [
       "<div>\n",
       "<style scoped>\n",
       "    .dataframe tbody tr th:only-of-type {\n",
       "        vertical-align: middle;\n",
       "    }\n",
       "\n",
       "    .dataframe tbody tr th {\n",
       "        vertical-align: top;\n",
       "    }\n",
       "\n",
       "    .dataframe thead th {\n",
       "        text-align: right;\n",
       "    }\n",
       "</style>\n",
       "<table border=\"1\" class=\"dataframe\">\n",
       "  <thead>\n",
       "    <tr style=\"text-align: right;\">\n",
       "      <th></th>\n",
       "      <th>timestamp</th>\n",
       "      <th>date</th>\n",
       "      <th>open</th>\n",
       "      <th>high</th>\n",
       "      <th>low</th>\n",
       "      <th>volume</th>\n",
       "      <th>close</th>\n",
       "      <th>tomorrow</th>\n",
       "    </tr>\n",
       "  </thead>\n",
       "  <tbody>\n",
       "    <tr>\n",
       "      <th>1130</th>\n",
       "      <td>1714514400000</td>\n",
       "      <td>2024-05-01</td>\n",
       "      <td>60609.496094</td>\n",
       "      <td>60780.500000</td>\n",
       "      <td>56555.292969</td>\n",
       "      <td>4.843978e+10</td>\n",
       "      <td>58254.011719</td>\n",
       "      <td>59123.433594</td>\n",
       "    </tr>\n",
       "    <tr>\n",
       "      <th>1307</th>\n",
       "      <td>1714600800000</td>\n",
       "      <td>2024-05-02</td>\n",
       "      <td>58253.703125</td>\n",
       "      <td>59602.296875</td>\n",
       "      <td>56937.203125</td>\n",
       "      <td>3.271181e+10</td>\n",
       "      <td>59123.433594</td>\n",
       "      <td>62889.835938</td>\n",
       "    </tr>\n",
       "    <tr>\n",
       "      <th>2583</th>\n",
       "      <td>1714687200000</td>\n",
       "      <td>2024-05-03</td>\n",
       "      <td>59122.300781</td>\n",
       "      <td>63320.503906</td>\n",
       "      <td>58848.312500</td>\n",
       "      <td>3.317202e+10</td>\n",
       "      <td>62889.835938</td>\n",
       "      <td>63891.472656</td>\n",
       "    </tr>\n",
       "    <tr>\n",
       "      <th>1454</th>\n",
       "      <td>1714773600000</td>\n",
       "      <td>2024-05-04</td>\n",
       "      <td>62891.031250</td>\n",
       "      <td>64494.957031</td>\n",
       "      <td>62599.351562</td>\n",
       "      <td>2.062048e+10</td>\n",
       "      <td>63891.472656</td>\n",
       "      <td>64031.132812</td>\n",
       "    </tr>\n",
       "    <tr>\n",
       "      <th>1109</th>\n",
       "      <td>1714860000000</td>\n",
       "      <td>2024-05-05</td>\n",
       "      <td>63892.453125</td>\n",
       "      <td>64610.890625</td>\n",
       "      <td>62955.304688</td>\n",
       "      <td>1.829616e+10</td>\n",
       "      <td>64031.132812</td>\n",
       "      <td>NaN</td>\n",
       "    </tr>\n",
       "  </tbody>\n",
       "</table>\n",
       "</div>"
      ],
      "text/plain": [
       "          timestamp        date          open          high           low  \\\n",
       "1130  1714514400000  2024-05-01  60609.496094  60780.500000  56555.292969   \n",
       "1307  1714600800000  2024-05-02  58253.703125  59602.296875  56937.203125   \n",
       "2583  1714687200000  2024-05-03  59122.300781  63320.503906  58848.312500   \n",
       "1454  1714773600000  2024-05-04  62891.031250  64494.957031  62599.351562   \n",
       "1109  1714860000000  2024-05-05  63892.453125  64610.890625  62955.304688   \n",
       "\n",
       "            volume         close      tomorrow  \n",
       "1130  4.843978e+10  58254.011719  59123.433594  \n",
       "1307  3.271181e+10  59123.433594  62889.835938  \n",
       "2583  3.317202e+10  62889.835938  63891.472656  \n",
       "1454  2.062048e+10  63891.472656  64031.132812  \n",
       "1109  1.829616e+10  64031.132812           NaN  "
      ]
     },
     "execution_count": 8,
     "metadata": {},
     "output_type": "execute_result"
    }
   ],
   "source": [
    "sorted_df.tail()"
   ]
  },
  {
   "cell_type": "code",
   "execution_count": 8,
   "metadata": {},
   "outputs": [],
   "source": [
    "X = sorted_df.drop(columns=['timestamp', 'date', 'tomorrow'])"
   ]
  },
  {
   "cell_type": "code",
   "execution_count": 9,
   "metadata": {},
   "outputs": [],
   "source": [
    "day_to_predict = X.tail(1).iloc[0]\n",
    "day_to_predict_reshaped = day_to_predict.values.reshape(1, -1)"
   ]
  },
  {
   "cell_type": "code",
   "execution_count": 10,
   "metadata": {},
   "outputs": [],
   "source": [
    "pred = xgboost_model.predict(day_to_predict_reshaped)"
   ]
  },
  {
   "cell_type": "code",
   "execution_count": 12,
   "metadata": {},
   "outputs": [],
   "source": [
    "import pandas as pd\n",
    "\n",
    "prediction_df = pd.DataFrame({'Date of last available closing price': sorted_df['date'].iloc[-1], 'Predicted value for the next day': pred})"
   ]
  },
  {
   "cell_type": "code",
   "execution_count": 13,
   "metadata": {},
   "outputs": [
    {
     "data": {
      "text/html": [
       "<div>\n",
       "<style scoped>\n",
       "    .dataframe tbody tr th:only-of-type {\n",
       "        vertical-align: middle;\n",
       "    }\n",
       "\n",
       "    .dataframe tbody tr th {\n",
       "        vertical-align: top;\n",
       "    }\n",
       "\n",
       "    .dataframe thead th {\n",
       "        text-align: right;\n",
       "    }\n",
       "</style>\n",
       "<table border=\"1\" class=\"dataframe\">\n",
       "  <thead>\n",
       "    <tr style=\"text-align: right;\">\n",
       "      <th></th>\n",
       "      <th>Date of last available closing price</th>\n",
       "      <th>Predicted value for the next day</th>\n",
       "    </tr>\n",
       "  </thead>\n",
       "  <tbody>\n",
       "    <tr>\n",
       "      <th>0</th>\n",
       "      <td>2024-05-05</td>\n",
       "      <td>65527.914062</td>\n",
       "    </tr>\n",
       "  </tbody>\n",
       "</table>\n",
       "</div>"
      ],
      "text/plain": [
       "  Date of last available closing price  Predicted value for the next day\n",
       "0                           2024-05-05                      65527.914062"
      ]
     },
     "execution_count": 13,
     "metadata": {},
     "output_type": "execute_result"
    }
   ],
   "source": [
    "prediction_df"
   ]
  }
 ],
 "metadata": {
  "kernelspec": {
   "display_name": "Python 3",
   "language": "python",
   "name": "python3"
  },
  "language_info": {
   "codemirror_mode": {
    "name": "ipython",
    "version": 3
   },
   "file_extension": ".py",
   "mimetype": "text/x-python",
   "name": "python",
   "nbconvert_exporter": "python",
   "pygments_lexer": "ipython3",
   "version": "3.11.9"
  }
 },
 "nbformat": 4,
 "nbformat_minor": 2
}
