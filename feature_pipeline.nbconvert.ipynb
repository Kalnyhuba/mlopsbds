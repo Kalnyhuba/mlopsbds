{
 "cells": [
  {
   "cell_type": "code",
   "execution_count": 1,
   "metadata": {
    "execution": {
     "iopub.execute_input": "2024-09-17T08:18:55.534209Z",
     "iopub.status.busy": "2024-09-17T08:18:55.533782Z",
     "iopub.status.idle": "2024-09-17T08:18:56.030486Z",
     "shell.execute_reply": "2024-09-17T08:18:56.029920Z"
    }
   },
   "outputs": [],
   "source": [
    "import datetime as dt\n",
    "from features import feature_engineering"
   ]
  },
  {
   "cell_type": "code",
   "execution_count": 2,
   "metadata": {
    "execution": {
     "iopub.execute_input": "2024-09-17T08:18:56.033207Z",
     "iopub.status.busy": "2024-09-17T08:18:56.032891Z",
     "iopub.status.idle": "2024-09-17T08:18:57.197591Z",
     "shell.execute_reply": "2024-09-17T08:18:57.196963Z"
    }
   },
   "outputs": [
    {
     "name": "stderr",
     "output_type": "stream",
     "text": [
      "\r",
      "[*********************100%***********************]  1 of 1 completed"
     ]
    },
    {
     "name": "stderr",
     "output_type": "stream",
     "text": [
      "\n",
      "\r",
      "[*********************100%***********************]  1 of 1 completed"
     ]
    },
    {
     "name": "stderr",
     "output_type": "stream",
     "text": [
      "\n",
      "/home/runner/work/mlopsbds/mlopsbds/features/feature_engineering.py:45: FutureWarning: Series.fillna with 'method' is deprecated and will raise in a future version. Use obj.ffill() or obj.bfill() instead.\n",
      "  df_merged[f'close{column_suffix}'].fillna(method='ffill', inplace=True)\n"
     ]
    },
    {
     "name": "stderr",
     "output_type": "stream",
     "text": [
      "\r",
      "[*********************100%***********************]  1 of 1 completed"
     ]
    },
    {
     "name": "stderr",
     "output_type": "stream",
     "text": [
      "\n"
     ]
    },
    {
     "name": "stderr",
     "output_type": "stream",
     "text": [
      "\r",
      "[*********************100%***********************]  1 of 1 completed"
     ]
    },
    {
     "name": "stderr",
     "output_type": "stream",
     "text": [
      "\n",
      "/home/runner/work/mlopsbds/mlopsbds/features/feature_engineering.py:45: FutureWarning: Series.fillna with 'method' is deprecated and will raise in a future version. Use obj.ffill() or obj.bfill() instead.\n",
      "  df_merged[f'close{column_suffix}'].fillna(method='ffill', inplace=True)\n",
      "/home/runner/work/mlopsbds/mlopsbds/features/feature_engineering.py:45: FutureWarning: Series.fillna with 'method' is deprecated and will raise in a future version. Use obj.ffill() or obj.bfill() instead.\n",
      "  df_merged[f'close{column_suffix}'].fillna(method='ffill', inplace=True)\n"
     ]
    },
    {
     "name": "stderr",
     "output_type": "stream",
     "text": [
      "/home/runner/work/mlopsbds/mlopsbds/features/feature_engineering.py:81: FutureWarning: Series.fillna with 'method' is deprecated and will raise in a future version. Use obj.ffill() or obj.bfill() instead.\n",
      "  df_merged['hash_rate'].fillna(method='ffill', inplace=True)\n"
     ]
    }
   ],
   "source": [
    "start_date = dt.date(2015, 1, 1)\n",
    "end_date = dt.date.today()\n",
    "df = feature_engineering.prepare_data(start_date=start_date, end_date=end_date)"
   ]
  },
  {
   "cell_type": "code",
   "execution_count": 3,
   "metadata": {
    "execution": {
     "iopub.execute_input": "2024-09-17T08:18:57.199804Z",
     "iopub.status.busy": "2024-09-17T08:18:57.199453Z",
     "iopub.status.idle": "2024-09-17T08:18:57.210636Z",
     "shell.execute_reply": "2024-09-17T08:18:57.210127Z"
    }
   },
   "outputs": [
    {
     "data": {
      "text/html": [
       "<div>\n",
       "<style scoped>\n",
       "    .dataframe tbody tr th:only-of-type {\n",
       "        vertical-align: middle;\n",
       "    }\n",
       "\n",
       "    .dataframe tbody tr th {\n",
       "        vertical-align: top;\n",
       "    }\n",
       "\n",
       "    .dataframe thead th {\n",
       "        text-align: right;\n",
       "    }\n",
       "</style>\n",
       "<table border=\"1\" class=\"dataframe\">\n",
       "  <thead>\n",
       "    <tr style=\"text-align: right;\">\n",
       "      <th></th>\n",
       "      <th>date</th>\n",
       "      <th>open</th>\n",
       "      <th>high</th>\n",
       "      <th>low</th>\n",
       "      <th>close</th>\n",
       "      <th>volume</th>\n",
       "      <th>ma7</th>\n",
       "      <th>ma21</th>\n",
       "      <th>bollinger_upper</th>\n",
       "      <th>bollinger_lower</th>\n",
       "      <th>lag7</th>\n",
       "      <th>volatility</th>\n",
       "      <th>close_usd_index</th>\n",
       "      <th>close_oil</th>\n",
       "      <th>close_gold</th>\n",
       "      <th>hash_rate</th>\n",
       "      <th>id</th>\n",
       "    </tr>\n",
       "  </thead>\n",
       "  <tbody>\n",
       "    <tr>\n",
       "      <th>3525</th>\n",
       "      <td>2024-09-15</td>\n",
       "      <td>60000.7266</td>\n",
       "      <td>60381.9180</td>\n",
       "      <td>58696.3086</td>\n",
       "      <td>59182.8359</td>\n",
       "      <td>18120960867</td>\n",
       "      <td>58556.8125</td>\n",
       "      <td>58081.8423</td>\n",
       "      <td>62356.7526</td>\n",
       "      <td>53806.9319</td>\n",
       "      <td>54841.5664</td>\n",
       "      <td>1377.9930</td>\n",
       "      <td>101.1100</td>\n",
       "      <td>68.6500</td>\n",
       "      <td>2581.3000</td>\n",
       "      <td>566627672.3067</td>\n",
       "      <td>3523</td>\n",
       "    </tr>\n",
       "    <tr>\n",
       "      <th>3526</th>\n",
       "      <td>2024-09-16</td>\n",
       "      <td>59185.2266</td>\n",
       "      <td>59205.5117</td>\n",
       "      <td>57501.3398</td>\n",
       "      <td>58192.5078</td>\n",
       "      <td>32032822113</td>\n",
       "      <td>58724.3800</td>\n",
       "      <td>57858.5969</td>\n",
       "      <td>61527.6915</td>\n",
       "      <td>54189.5023</td>\n",
       "      <td>57019.5352</td>\n",
       "      <td>1222.4383</td>\n",
       "      <td>100.7600</td>\n",
       "      <td>70.0900</td>\n",
       "      <td>2580.3999</td>\n",
       "      <td>566627672.3067</td>\n",
       "      <td>3524</td>\n",
       "    </tr>\n",
       "  </tbody>\n",
       "</table>\n",
       "</div>"
      ],
      "text/plain": [
       "           date       open       high        low      close       volume  \\\n",
       "3525 2024-09-15 60000.7266 60381.9180 58696.3086 59182.8359  18120960867   \n",
       "3526 2024-09-16 59185.2266 59205.5117 57501.3398 58192.5078  32032822113   \n",
       "\n",
       "            ma7       ma21  bollinger_upper  bollinger_lower       lag7  \\\n",
       "3525 58556.8125 58081.8423       62356.7526       53806.9319 54841.5664   \n",
       "3526 58724.3800 57858.5969       61527.6915       54189.5023 57019.5352   \n",
       "\n",
       "      volatility  close_usd_index  close_oil  close_gold      hash_rate    id  \n",
       "3525   1377.9930         101.1100    68.6500   2581.3000 566627672.3067  3523  \n",
       "3526   1222.4383         100.7600    70.0900   2580.3999 566627672.3067  3524  "
      ]
     },
     "execution_count": 3,
     "metadata": {},
     "output_type": "execute_result"
    }
   ],
   "source": [
    "df_new_data = df.tail(2)\n",
    "df_new_data"
   ]
  },
  {
   "cell_type": "code",
   "execution_count": 4,
   "metadata": {
    "execution": {
     "iopub.execute_input": "2024-09-17T08:18:57.212770Z",
     "iopub.status.busy": "2024-09-17T08:18:57.212424Z",
     "iopub.status.idle": "2024-09-17T08:19:00.399345Z",
     "shell.execute_reply": "2024-09-17T08:19:00.398457Z"
    }
   },
   "outputs": [
    {
     "name": "stdout",
     "output_type": "stream",
     "text": [
      "Connected. Call `.close()` to terminate connection gracefully.\n"
     ]
    },
    {
     "name": "stdout",
     "output_type": "stream",
     "text": [
      "\n",
      "Logged in to project, explore it here https://c.app.hopsworks.ai:443/p/556181\n"
     ]
    },
    {
     "name": "stdout",
     "output_type": "stream",
     "text": [
      "Connected. Call `.close()` to terminate connection gracefully.\n"
     ]
    }
   ],
   "source": [
    "import hopsworks\n",
    "\n",
    "project = hopsworks.login()\n",
    "\n",
    "fs = project.get_feature_store()"
   ]
  },
  {
   "cell_type": "code",
   "execution_count": 5,
   "metadata": {
    "execution": {
     "iopub.execute_input": "2024-09-17T08:19:00.402139Z",
     "iopub.status.busy": "2024-09-17T08:19:00.401925Z",
     "iopub.status.idle": "2024-09-17T08:19:00.621241Z",
     "shell.execute_reply": "2024-09-17T08:19:00.620577Z"
    }
   },
   "outputs": [],
   "source": [
    "btc_price_movement_prediction_fg = fs.get_feature_group(\n",
    "    name=\"bitcoin_price_movement\",\n",
    "    version=2\n",
    ")\n",
    "\n",
    "#btc_price_movement_prediction_fg.insert(df_new_data)"
   ]
  }
 ],
 "metadata": {
  "kernelspec": {
   "display_name": "Python 3",
   "language": "python",
   "name": "python3"
  },
  "language_info": {
   "codemirror_mode": {
    "name": "ipython",
    "version": 3
   },
   "file_extension": ".py",
   "mimetype": "text/x-python",
   "name": "python",
   "nbconvert_exporter": "python",
   "pygments_lexer": "ipython3",
   "version": "3.11.9"
  }
 },
 "nbformat": 4,
 "nbformat_minor": 2
}
