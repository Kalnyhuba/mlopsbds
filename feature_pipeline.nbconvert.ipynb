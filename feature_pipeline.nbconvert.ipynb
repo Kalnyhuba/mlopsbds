{
 "cells": [
  {
   "cell_type": "code",
   "execution_count": 1,
   "metadata": {
    "execution": {
     "iopub.execute_input": "2024-10-09T08:18:46.295905Z",
     "iopub.status.busy": "2024-10-09T08:18:46.295739Z",
     "iopub.status.idle": "2024-10-09T08:18:46.770327Z",
     "shell.execute_reply": "2024-10-09T08:18:46.769661Z"
    }
   },
   "outputs": [],
   "source": [
    "import datetime as dt\n",
    "from features import feature_engineering"
   ]
  },
  {
   "cell_type": "code",
   "execution_count": 2,
   "metadata": {
    "execution": {
     "iopub.execute_input": "2024-10-09T08:18:46.772598Z",
     "iopub.status.busy": "2024-10-09T08:18:46.772329Z",
     "iopub.status.idle": "2024-10-09T08:18:47.871992Z",
     "shell.execute_reply": "2024-10-09T08:18:47.871362Z"
    }
   },
   "outputs": [
    {
     "name": "stderr",
     "output_type": "stream",
     "text": [
      "\r",
      "[*********************100%***********************]  1 of 1 completed"
     ]
    },
    {
     "name": "stderr",
     "output_type": "stream",
     "text": [
      "\n",
      "\r",
      "[*********************100%***********************]  1 of 1 completed"
     ]
    },
    {
     "name": "stderr",
     "output_type": "stream",
     "text": [
      "\n",
      "/home/runner/work/mlopsbds/mlopsbds/features/feature_engineering.py:45: FutureWarning: Series.fillna with 'method' is deprecated and will raise in a future version. Use obj.ffill() or obj.bfill() instead.\n",
      "  df_merged[f'close{column_suffix}'].fillna(method='ffill', inplace=True)\n"
     ]
    },
    {
     "name": "stderr",
     "output_type": "stream",
     "text": [
      "\r",
      "[*********************100%***********************]  1 of 1 completed"
     ]
    },
    {
     "name": "stderr",
     "output_type": "stream",
     "text": [
      "\n"
     ]
    },
    {
     "name": "stderr",
     "output_type": "stream",
     "text": [
      "\r",
      "[*********************100%***********************]  1 of 1 completed"
     ]
    },
    {
     "name": "stderr",
     "output_type": "stream",
     "text": [
      "\n",
      "/home/runner/work/mlopsbds/mlopsbds/features/feature_engineering.py:45: FutureWarning: Series.fillna with 'method' is deprecated and will raise in a future version. Use obj.ffill() or obj.bfill() instead.\n",
      "  df_merged[f'close{column_suffix}'].fillna(method='ffill', inplace=True)\n",
      "/home/runner/work/mlopsbds/mlopsbds/features/feature_engineering.py:45: FutureWarning: Series.fillna with 'method' is deprecated and will raise in a future version. Use obj.ffill() or obj.bfill() instead.\n",
      "  df_merged[f'close{column_suffix}'].fillna(method='ffill', inplace=True)\n"
     ]
    },
    {
     "name": "stderr",
     "output_type": "stream",
     "text": [
      "/home/runner/work/mlopsbds/mlopsbds/features/feature_engineering.py:81: FutureWarning: Series.fillna with 'method' is deprecated and will raise in a future version. Use obj.ffill() or obj.bfill() instead.\n",
      "  df_merged['hash_rate'].fillna(method='ffill', inplace=True)\n"
     ]
    }
   ],
   "source": [
    "start_date = dt.date(2015, 1, 1)\n",
    "end_date = dt.date.today()\n",
    "df = feature_engineering.prepare_data(start_date=start_date, end_date=end_date)"
   ]
  },
  {
   "cell_type": "code",
   "execution_count": 3,
   "metadata": {
    "execution": {
     "iopub.execute_input": "2024-10-09T08:18:47.874135Z",
     "iopub.status.busy": "2024-10-09T08:18:47.873662Z",
     "iopub.status.idle": "2024-10-09T08:18:47.884925Z",
     "shell.execute_reply": "2024-10-09T08:18:47.884361Z"
    }
   },
   "outputs": [
    {
     "data": {
      "text/html": [
       "<div>\n",
       "<style scoped>\n",
       "    .dataframe tbody tr th:only-of-type {\n",
       "        vertical-align: middle;\n",
       "    }\n",
       "\n",
       "    .dataframe tbody tr th {\n",
       "        vertical-align: top;\n",
       "    }\n",
       "\n",
       "    .dataframe thead th {\n",
       "        text-align: right;\n",
       "    }\n",
       "</style>\n",
       "<table border=\"1\" class=\"dataframe\">\n",
       "  <thead>\n",
       "    <tr style=\"text-align: right;\">\n",
       "      <th></th>\n",
       "      <th>date</th>\n",
       "      <th>open</th>\n",
       "      <th>high</th>\n",
       "      <th>low</th>\n",
       "      <th>close</th>\n",
       "      <th>volume</th>\n",
       "      <th>ma7</th>\n",
       "      <th>ma21</th>\n",
       "      <th>bollinger_upper</th>\n",
       "      <th>bollinger_lower</th>\n",
       "      <th>lag7</th>\n",
       "      <th>volatility</th>\n",
       "      <th>close_usd_index</th>\n",
       "      <th>close_oil</th>\n",
       "      <th>close_gold</th>\n",
       "      <th>hash_rate</th>\n",
       "      <th>id</th>\n",
       "    </tr>\n",
       "  </thead>\n",
       "  <tbody>\n",
       "    <tr>\n",
       "      <th>3546</th>\n",
       "      <td>2024-10-06</td>\n",
       "      <td>62084.9883</td>\n",
       "      <td>62959.5703</td>\n",
       "      <td>61833.1484</td>\n",
       "      <td>62818.9531</td>\n",
       "      <td>14776233667</td>\n",
       "      <td>61790.7249</td>\n",
       "      <td>62815.8255</td>\n",
       "      <td>66787.6898</td>\n",
       "      <td>58843.9612</td>\n",
       "      <td>65635.3047</td>\n",
       "      <td>1072.7873</td>\n",
       "      <td>102.5200</td>\n",
       "      <td>74.3800</td>\n",
       "      <td>2645.8000</td>\n",
       "      <td>694347855.1728</td>\n",
       "      <td>3544</td>\n",
       "    </tr>\n",
       "    <tr>\n",
       "      <th>3547</th>\n",
       "      <td>2024-10-07</td>\n",
       "      <td>62819.1094</td>\n",
       "      <td>64443.7070</td>\n",
       "      <td>62152.5508</td>\n",
       "      <td>62236.6602</td>\n",
       "      <td>34253562610</td>\n",
       "      <td>61634.6049</td>\n",
       "      <td>63008.4042</td>\n",
       "      <td>66386.5717</td>\n",
       "      <td>59630.2367</td>\n",
       "      <td>63329.5000</td>\n",
       "      <td>872.3198</td>\n",
       "      <td>102.5400</td>\n",
       "      <td>77.1400</td>\n",
       "      <td>2644.8000</td>\n",
       "      <td>681164035.1378</td>\n",
       "      <td>3545</td>\n",
       "    </tr>\n",
       "  </tbody>\n",
       "</table>\n",
       "</div>"
      ],
      "text/plain": [
       "           date       open       high        low      close       volume  \\\n",
       "3546 2024-10-06 62084.9883 62959.5703 61833.1484 62818.9531  14776233667   \n",
       "3547 2024-10-07 62819.1094 64443.7070 62152.5508 62236.6602  34253562610   \n",
       "\n",
       "            ma7       ma21  bollinger_upper  bollinger_lower       lag7  \\\n",
       "3546 61790.7249 62815.8255       66787.6898       58843.9612 65635.3047   \n",
       "3547 61634.6049 63008.4042       66386.5717       59630.2367 63329.5000   \n",
       "\n",
       "      volatility  close_usd_index  close_oil  close_gold      hash_rate    id  \n",
       "3546   1072.7873         102.5200    74.3800   2645.8000 694347855.1728  3544  \n",
       "3547    872.3198         102.5400    77.1400   2644.8000 681164035.1378  3545  "
      ]
     },
     "execution_count": 3,
     "metadata": {},
     "output_type": "execute_result"
    }
   ],
   "source": [
    "df_new_data = df.tail(2)\n",
    "df_new_data"
   ]
  },
  {
   "cell_type": "code",
   "execution_count": 4,
   "metadata": {
    "execution": {
     "iopub.execute_input": "2024-10-09T08:18:47.886727Z",
     "iopub.status.busy": "2024-10-09T08:18:47.886308Z",
     "iopub.status.idle": "2024-10-09T08:18:50.329184Z",
     "shell.execute_reply": "2024-10-09T08:18:50.328544Z"
    }
   },
   "outputs": [
    {
     "name": "stdout",
     "output_type": "stream",
     "text": [
      "Connected. Call `.close()` to terminate connection gracefully.\n"
     ]
    },
    {
     "name": "stdout",
     "output_type": "stream",
     "text": [
      "\n",
      "Logged in to project, explore it here https://c.app.hopsworks.ai:443/p/556181\n"
     ]
    },
    {
     "name": "stdout",
     "output_type": "stream",
     "text": [
      "Connected. Call `.close()` to terminate connection gracefully.\n"
     ]
    }
   ],
   "source": [
    "import hopsworks\n",
    "\n",
    "project = hopsworks.login()\n",
    "\n",
    "fs = project.get_feature_store()"
   ]
  },
  {
   "cell_type": "code",
   "execution_count": 5,
   "metadata": {
    "execution": {
     "iopub.execute_input": "2024-10-09T08:18:50.331068Z",
     "iopub.status.busy": "2024-10-09T08:18:50.330889Z",
     "iopub.status.idle": "2024-10-09T08:18:50.528631Z",
     "shell.execute_reply": "2024-10-09T08:18:50.527995Z"
    }
   },
   "outputs": [],
   "source": [
    "btc_price_movement_prediction_fg = fs.get_feature_group(\n",
    "    name=\"bitcoin_price_movement\",\n",
    "    version=2\n",
    ")\n",
    "\n",
    "#btc_price_movement_prediction_fg.insert(df_new_data)"
   ]
  }
 ],
 "metadata": {
  "kernelspec": {
   "display_name": "Python 3",
   "language": "python",
   "name": "python3"
  },
  "language_info": {
   "codemirror_mode": {
    "name": "ipython",
    "version": 3
   },
   "file_extension": ".py",
   "mimetype": "text/x-python",
   "name": "python",
   "nbconvert_exporter": "python",
   "pygments_lexer": "ipython3",
   "version": "3.11.9"
  }
 },
 "nbformat": 4,
 "nbformat_minor": 2
}
