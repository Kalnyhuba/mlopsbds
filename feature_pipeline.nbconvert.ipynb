{
 "cells": [
  {
   "cell_type": "code",
   "execution_count": 1,
   "metadata": {
    "execution": {
     "iopub.execute_input": "2024-08-29T08:17:58.632988Z",
     "iopub.status.busy": "2024-08-29T08:17:58.632822Z",
     "iopub.status.idle": "2024-08-29T08:17:59.184446Z",
     "shell.execute_reply": "2024-08-29T08:17:59.183889Z"
    }
   },
   "outputs": [],
   "source": [
    "import datetime as dt\n",
    "from features import feature_engineering"
   ]
  },
  {
   "cell_type": "code",
   "execution_count": 2,
   "metadata": {
    "execution": {
     "iopub.execute_input": "2024-08-29T08:17:59.187230Z",
     "iopub.status.busy": "2024-08-29T08:17:59.186806Z",
     "iopub.status.idle": "2024-08-29T08:18:00.282887Z",
     "shell.execute_reply": "2024-08-29T08:18:00.282283Z"
    }
   },
   "outputs": [
    {
     "name": "stderr",
     "output_type": "stream",
     "text": [
      "\r",
      "[*********************100%***********************]  1 of 1 completed"
     ]
    },
    {
     "name": "stderr",
     "output_type": "stream",
     "text": [
      "\n",
      "\r",
      "[*********************100%***********************]  1 of 1 completed"
     ]
    },
    {
     "name": "stderr",
     "output_type": "stream",
     "text": [
      "\n",
      "/home/runner/work/mlopsbds/mlopsbds/features/feature_engineering.py:45: FutureWarning: Series.fillna with 'method' is deprecated and will raise in a future version. Use obj.ffill() or obj.bfill() instead.\n",
      "  df_merged[f'close{column_suffix}'].fillna(method='ffill', inplace=True)\n"
     ]
    },
    {
     "name": "stderr",
     "output_type": "stream",
     "text": [
      "\r",
      "[*********************100%***********************]  1 of 1 completed"
     ]
    },
    {
     "name": "stderr",
     "output_type": "stream",
     "text": [
      "\n"
     ]
    },
    {
     "name": "stderr",
     "output_type": "stream",
     "text": [
      "\r",
      "[*********************100%***********************]  1 of 1 completed"
     ]
    },
    {
     "name": "stderr",
     "output_type": "stream",
     "text": [
      "\n",
      "/home/runner/work/mlopsbds/mlopsbds/features/feature_engineering.py:45: FutureWarning: Series.fillna with 'method' is deprecated and will raise in a future version. Use obj.ffill() or obj.bfill() instead.\n",
      "  df_merged[f'close{column_suffix}'].fillna(method='ffill', inplace=True)\n",
      "/home/runner/work/mlopsbds/mlopsbds/features/feature_engineering.py:45: FutureWarning: Series.fillna with 'method' is deprecated and will raise in a future version. Use obj.ffill() or obj.bfill() instead.\n",
      "  df_merged[f'close{column_suffix}'].fillna(method='ffill', inplace=True)\n"
     ]
    },
    {
     "name": "stderr",
     "output_type": "stream",
     "text": [
      "/home/runner/work/mlopsbds/mlopsbds/features/feature_engineering.py:81: FutureWarning: Series.fillna with 'method' is deprecated and will raise in a future version. Use obj.ffill() or obj.bfill() instead.\n",
      "  df_merged['hash_rate'].fillna(method='ffill', inplace=True)\n"
     ]
    }
   ],
   "source": [
    "start_date = dt.date(2015, 1, 1)\n",
    "end_date = dt.date.today()\n",
    "df = feature_engineering.prepare_data(start_date=start_date, end_date=end_date)"
   ]
  },
  {
   "cell_type": "code",
   "execution_count": 3,
   "metadata": {
    "execution": {
     "iopub.execute_input": "2024-08-29T08:18:00.285115Z",
     "iopub.status.busy": "2024-08-29T08:18:00.284765Z",
     "iopub.status.idle": "2024-08-29T08:18:00.295866Z",
     "shell.execute_reply": "2024-08-29T08:18:00.295301Z"
    }
   },
   "outputs": [
    {
     "data": {
      "text/html": [
       "<div>\n",
       "<style scoped>\n",
       "    .dataframe tbody tr th:only-of-type {\n",
       "        vertical-align: middle;\n",
       "    }\n",
       "\n",
       "    .dataframe tbody tr th {\n",
       "        vertical-align: top;\n",
       "    }\n",
       "\n",
       "    .dataframe thead th {\n",
       "        text-align: right;\n",
       "    }\n",
       "</style>\n",
       "<table border=\"1\" class=\"dataframe\">\n",
       "  <thead>\n",
       "    <tr style=\"text-align: right;\">\n",
       "      <th></th>\n",
       "      <th>date</th>\n",
       "      <th>open</th>\n",
       "      <th>high</th>\n",
       "      <th>low</th>\n",
       "      <th>close</th>\n",
       "      <th>volume</th>\n",
       "      <th>ma7</th>\n",
       "      <th>ma21</th>\n",
       "      <th>bollinger_upper</th>\n",
       "      <th>bollinger_lower</th>\n",
       "      <th>lag7</th>\n",
       "      <th>volatility</th>\n",
       "      <th>close_usd_index</th>\n",
       "      <th>close_oil</th>\n",
       "      <th>close_gold</th>\n",
       "      <th>hash_rate</th>\n",
       "      <th>id</th>\n",
       "    </tr>\n",
       "  </thead>\n",
       "  <tbody>\n",
       "    <tr>\n",
       "      <th>3506</th>\n",
       "      <td>2024-08-27</td>\n",
       "      <td>62879.7070</td>\n",
       "      <td>63210.7969</td>\n",
       "      <td>58116.7500</td>\n",
       "      <td>59504.1328</td>\n",
       "      <td>39103882198</td>\n",
       "      <td>62364.1127</td>\n",
       "      <td>60259.8350</td>\n",
       "      <td>64863.7457</td>\n",
       "      <td>55655.9243</td>\n",
       "      <td>59012.7930</td>\n",
       "      <td>1998.1297</td>\n",
       "      <td>100.5500</td>\n",
       "      <td>75.5300</td>\n",
       "      <td>2516.0000</td>\n",
       "      <td>660715874.9229</td>\n",
       "      <td>3504</td>\n",
       "    </tr>\n",
       "    <tr>\n",
       "      <th>3507</th>\n",
       "      <td>2024-08-28</td>\n",
       "      <td>59507.9258</td>\n",
       "      <td>60236.4492</td>\n",
       "      <td>57890.6758</td>\n",
       "      <td>59027.6250</td>\n",
       "      <td>40289564698</td>\n",
       "      <td>62057.3175</td>\n",
       "      <td>60450.3190</td>\n",
       "      <td>64434.2518</td>\n",
       "      <td>56466.3862</td>\n",
       "      <td>61175.1914</td>\n",
       "      <td>2345.7368</td>\n",
       "      <td>101.0900</td>\n",
       "      <td>74.5200</td>\n",
       "      <td>2501.0000</td>\n",
       "      <td>703794017.3679</td>\n",
       "      <td>3505</td>\n",
       "    </tr>\n",
       "  </tbody>\n",
       "</table>\n",
       "</div>"
      ],
      "text/plain": [
       "           date       open       high        low      close       volume  \\\n",
       "3506 2024-08-27 62879.7070 63210.7969 58116.7500 59504.1328  39103882198   \n",
       "3507 2024-08-28 59507.9258 60236.4492 57890.6758 59027.6250  40289564698   \n",
       "\n",
       "            ma7       ma21  bollinger_upper  bollinger_lower       lag7  \\\n",
       "3506 62364.1127 60259.8350       64863.7457       55655.9243 59012.7930   \n",
       "3507 62057.3175 60450.3190       64434.2518       56466.3862 61175.1914   \n",
       "\n",
       "      volatility  close_usd_index  close_oil  close_gold      hash_rate    id  \n",
       "3506   1998.1297         100.5500    75.5300   2516.0000 660715874.9229  3504  \n",
       "3507   2345.7368         101.0900    74.5200   2501.0000 703794017.3679  3505  "
      ]
     },
     "execution_count": 3,
     "metadata": {},
     "output_type": "execute_result"
    }
   ],
   "source": [
    "df_new_data = df.tail(2)\n",
    "df_new_data"
   ]
  },
  {
   "cell_type": "code",
   "execution_count": 4,
   "metadata": {
    "execution": {
     "iopub.execute_input": "2024-08-29T08:18:00.297896Z",
     "iopub.status.busy": "2024-08-29T08:18:00.297561Z",
     "iopub.status.idle": "2024-08-29T08:18:02.966521Z",
     "shell.execute_reply": "2024-08-29T08:18:02.965944Z"
    }
   },
   "outputs": [
    {
     "name": "stdout",
     "output_type": "stream",
     "text": [
      "Connected. Call `.close()` to terminate connection gracefully.\n"
     ]
    },
    {
     "name": "stdout",
     "output_type": "stream",
     "text": [
      "\n",
      "Logged in to project, explore it here https://c.app.hopsworks.ai:443/p/556181\n"
     ]
    },
    {
     "name": "stdout",
     "output_type": "stream",
     "text": [
      "Connected. Call `.close()` to terminate connection gracefully.\n"
     ]
    }
   ],
   "source": [
    "import hopsworks\n",
    "\n",
    "project = hopsworks.login()\n",
    "\n",
    "fs = project.get_feature_store()"
   ]
  },
  {
   "cell_type": "code",
   "execution_count": 5,
   "metadata": {
    "execution": {
     "iopub.execute_input": "2024-08-29T08:18:02.968572Z",
     "iopub.status.busy": "2024-08-29T08:18:02.968373Z",
     "iopub.status.idle": "2024-08-29T08:18:03.179693Z",
     "shell.execute_reply": "2024-08-29T08:18:03.179146Z"
    }
   },
   "outputs": [],
   "source": [
    "btc_price_movement_prediction_fg = fs.get_feature_group(\n",
    "    name=\"bitcoin_price_movement\",\n",
    "    version=2\n",
    ")\n",
    "\n",
    "#btc_price_movement_prediction_fg.insert(df_new_data)"
   ]
  }
 ],
 "metadata": {
  "kernelspec": {
   "display_name": "Python 3",
   "language": "python",
   "name": "python3"
  },
  "language_info": {
   "codemirror_mode": {
    "name": "ipython",
    "version": 3
   },
   "file_extension": ".py",
   "mimetype": "text/x-python",
   "name": "python",
   "nbconvert_exporter": "python",
   "pygments_lexer": "ipython3",
   "version": "3.11.9"
  }
 },
 "nbformat": 4,
 "nbformat_minor": 2
}
