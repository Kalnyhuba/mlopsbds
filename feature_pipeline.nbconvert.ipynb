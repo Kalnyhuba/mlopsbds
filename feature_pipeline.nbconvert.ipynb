{
 "cells": [
  {
   "cell_type": "code",
   "execution_count": 1,
   "metadata": {
    "execution": {
     "iopub.execute_input": "2024-09-13T08:18:02.966743Z",
     "iopub.status.busy": "2024-09-13T08:18:02.966256Z",
     "iopub.status.idle": "2024-09-13T08:18:03.500487Z",
     "shell.execute_reply": "2024-09-13T08:18:03.499935Z"
    }
   },
   "outputs": [],
   "source": [
    "import datetime as dt\n",
    "from features import feature_engineering"
   ]
  },
  {
   "cell_type": "code",
   "execution_count": 2,
   "metadata": {
    "execution": {
     "iopub.execute_input": "2024-09-13T08:18:03.503343Z",
     "iopub.status.busy": "2024-09-13T08:18:03.502863Z",
     "iopub.status.idle": "2024-09-13T08:18:04.683273Z",
     "shell.execute_reply": "2024-09-13T08:18:04.682613Z"
    }
   },
   "outputs": [
    {
     "name": "stderr",
     "output_type": "stream",
     "text": [
      "\r",
      "[*********************100%***********************]  1 of 1 completed"
     ]
    },
    {
     "name": "stderr",
     "output_type": "stream",
     "text": [
      "\n",
      "\r",
      "[*********************100%***********************]  1 of 1 completed"
     ]
    },
    {
     "name": "stderr",
     "output_type": "stream",
     "text": [
      "\n",
      "/home/runner/work/mlopsbds/mlopsbds/features/feature_engineering.py:45: FutureWarning: Series.fillna with 'method' is deprecated and will raise in a future version. Use obj.ffill() or obj.bfill() instead.\n",
      "  df_merged[f'close{column_suffix}'].fillna(method='ffill', inplace=True)\n"
     ]
    },
    {
     "name": "stderr",
     "output_type": "stream",
     "text": [
      "\r",
      "[*********************100%***********************]  1 of 1 completed"
     ]
    },
    {
     "name": "stderr",
     "output_type": "stream",
     "text": [
      "\n"
     ]
    },
    {
     "name": "stderr",
     "output_type": "stream",
     "text": [
      "\r",
      "[*********************100%***********************]  1 of 1 completed"
     ]
    },
    {
     "name": "stderr",
     "output_type": "stream",
     "text": [
      "\n",
      "/home/runner/work/mlopsbds/mlopsbds/features/feature_engineering.py:45: FutureWarning: Series.fillna with 'method' is deprecated and will raise in a future version. Use obj.ffill() or obj.bfill() instead.\n",
      "  df_merged[f'close{column_suffix}'].fillna(method='ffill', inplace=True)\n",
      "/home/runner/work/mlopsbds/mlopsbds/features/feature_engineering.py:45: FutureWarning: Series.fillna with 'method' is deprecated and will raise in a future version. Use obj.ffill() or obj.bfill() instead.\n",
      "  df_merged[f'close{column_suffix}'].fillna(method='ffill', inplace=True)\n"
     ]
    },
    {
     "name": "stderr",
     "output_type": "stream",
     "text": [
      "/home/runner/work/mlopsbds/mlopsbds/features/feature_engineering.py:81: FutureWarning: Series.fillna with 'method' is deprecated and will raise in a future version. Use obj.ffill() or obj.bfill() instead.\n",
      "  df_merged['hash_rate'].fillna(method='ffill', inplace=True)\n"
     ]
    }
   ],
   "source": [
    "start_date = dt.date(2015, 1, 1)\n",
    "end_date = dt.date.today()\n",
    "df = feature_engineering.prepare_data(start_date=start_date, end_date=end_date)"
   ]
  },
  {
   "cell_type": "code",
   "execution_count": 3,
   "metadata": {
    "execution": {
     "iopub.execute_input": "2024-09-13T08:18:04.685514Z",
     "iopub.status.busy": "2024-09-13T08:18:04.685180Z",
     "iopub.status.idle": "2024-09-13T08:18:04.696863Z",
     "shell.execute_reply": "2024-09-13T08:18:04.696305Z"
    }
   },
   "outputs": [
    {
     "data": {
      "text/html": [
       "<div>\n",
       "<style scoped>\n",
       "    .dataframe tbody tr th:only-of-type {\n",
       "        vertical-align: middle;\n",
       "    }\n",
       "\n",
       "    .dataframe tbody tr th {\n",
       "        vertical-align: top;\n",
       "    }\n",
       "\n",
       "    .dataframe thead th {\n",
       "        text-align: right;\n",
       "    }\n",
       "</style>\n",
       "<table border=\"1\" class=\"dataframe\">\n",
       "  <thead>\n",
       "    <tr style=\"text-align: right;\">\n",
       "      <th></th>\n",
       "      <th>date</th>\n",
       "      <th>open</th>\n",
       "      <th>high</th>\n",
       "      <th>low</th>\n",
       "      <th>close</th>\n",
       "      <th>volume</th>\n",
       "      <th>ma7</th>\n",
       "      <th>ma21</th>\n",
       "      <th>bollinger_upper</th>\n",
       "      <th>bollinger_lower</th>\n",
       "      <th>lag7</th>\n",
       "      <th>volatility</th>\n",
       "      <th>close_usd_index</th>\n",
       "      <th>close_oil</th>\n",
       "      <th>close_gold</th>\n",
       "      <th>hash_rate</th>\n",
       "      <th>id</th>\n",
       "    </tr>\n",
       "  </thead>\n",
       "  <tbody>\n",
       "    <tr>\n",
       "      <th>3521</th>\n",
       "      <td>2024-09-11</td>\n",
       "      <td>57650.2891</td>\n",
       "      <td>57991.3203</td>\n",
       "      <td>55567.3398</td>\n",
       "      <td>57343.1719</td>\n",
       "      <td>37049062672</td>\n",
       "      <td>55871.7020</td>\n",
       "      <td>58801.0106</td>\n",
       "      <td>64918.2328</td>\n",
       "      <td>52683.7884</td>\n",
       "      <td>57971.5391</td>\n",
       "      <td>1553.6348</td>\n",
       "      <td>101.6800</td>\n",
       "      <td>67.3100</td>\n",
       "      <td>2512.1001</td>\n",
       "      <td>644910784.1399</td>\n",
       "      <td>3519</td>\n",
       "    </tr>\n",
       "    <tr>\n",
       "      <th>3522</th>\n",
       "      <td>2024-09-12</td>\n",
       "      <td>57343.1719</td>\n",
       "      <td>58534.3594</td>\n",
       "      <td>57330.1016</td>\n",
       "      <td>58127.0117</td>\n",
       "      <td>33835707949</td>\n",
       "      <td>56152.6339</td>\n",
       "      <td>58693.6343</td>\n",
       "      <td>64773.3536</td>\n",
       "      <td>52613.9150</td>\n",
       "      <td>56160.4883</td>\n",
       "      <td>1776.3845</td>\n",
       "      <td>101.3700</td>\n",
       "      <td>68.9700</td>\n",
       "      <td>2551.2000</td>\n",
       "      <td>644910784.1399</td>\n",
       "      <td>3520</td>\n",
       "    </tr>\n",
       "  </tbody>\n",
       "</table>\n",
       "</div>"
      ],
      "text/plain": [
       "           date       open       high        low      close       volume  \\\n",
       "3521 2024-09-11 57650.2891 57991.3203 55567.3398 57343.1719  37049062672   \n",
       "3522 2024-09-12 57343.1719 58534.3594 57330.1016 58127.0117  33835707949   \n",
       "\n",
       "            ma7       ma21  bollinger_upper  bollinger_lower       lag7  \\\n",
       "3521 55871.7020 58801.0106       64918.2328       52683.7884 57971.5391   \n",
       "3522 56152.6339 58693.6343       64773.3536       52613.9150 56160.4883   \n",
       "\n",
       "      volatility  close_usd_index  close_oil  close_gold      hash_rate    id  \n",
       "3521   1553.6348         101.6800    67.3100   2512.1001 644910784.1399  3519  \n",
       "3522   1776.3845         101.3700    68.9700   2551.2000 644910784.1399  3520  "
      ]
     },
     "execution_count": 3,
     "metadata": {},
     "output_type": "execute_result"
    }
   ],
   "source": [
    "df_new_data = df.tail(2)\n",
    "df_new_data"
   ]
  },
  {
   "cell_type": "code",
   "execution_count": 4,
   "metadata": {
    "execution": {
     "iopub.execute_input": "2024-09-13T08:18:04.699260Z",
     "iopub.status.busy": "2024-09-13T08:18:04.698832Z",
     "iopub.status.idle": "2024-09-13T08:18:07.225217Z",
     "shell.execute_reply": "2024-09-13T08:18:07.224645Z"
    }
   },
   "outputs": [
    {
     "name": "stdout",
     "output_type": "stream",
     "text": [
      "Connected. Call `.close()` to terminate connection gracefully.\n"
     ]
    },
    {
     "name": "stdout",
     "output_type": "stream",
     "text": [
      "\n",
      "Logged in to project, explore it here https://c.app.hopsworks.ai:443/p/556181\n"
     ]
    },
    {
     "name": "stdout",
     "output_type": "stream",
     "text": [
      "Connected. Call `.close()` to terminate connection gracefully.\n"
     ]
    }
   ],
   "source": [
    "import hopsworks\n",
    "\n",
    "project = hopsworks.login()\n",
    "\n",
    "fs = project.get_feature_store()"
   ]
  },
  {
   "cell_type": "code",
   "execution_count": 5,
   "metadata": {
    "execution": {
     "iopub.execute_input": "2024-09-13T08:18:07.227719Z",
     "iopub.status.busy": "2024-09-13T08:18:07.227326Z",
     "iopub.status.idle": "2024-09-13T08:18:07.408743Z",
     "shell.execute_reply": "2024-09-13T08:18:07.408123Z"
    }
   },
   "outputs": [],
   "source": [
    "btc_price_movement_prediction_fg = fs.get_feature_group(\n",
    "    name=\"bitcoin_price_movement\",\n",
    "    version=2\n",
    ")\n",
    "\n",
    "#btc_price_movement_prediction_fg.insert(df_new_data)"
   ]
  }
 ],
 "metadata": {
  "kernelspec": {
   "display_name": "Python 3",
   "language": "python",
   "name": "python3"
  },
  "language_info": {
   "codemirror_mode": {
    "name": "ipython",
    "version": 3
   },
   "file_extension": ".py",
   "mimetype": "text/x-python",
   "name": "python",
   "nbconvert_exporter": "python",
   "pygments_lexer": "ipython3",
   "version": "3.11.9"
  }
 },
 "nbformat": 4,
 "nbformat_minor": 2
}
