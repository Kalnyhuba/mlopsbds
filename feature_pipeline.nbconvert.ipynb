{
 "cells": [
  {
   "cell_type": "code",
   "execution_count": 1,
   "metadata": {
    "execution": {
     "iopub.execute_input": "2024-09-23T08:19:16.965963Z",
     "iopub.status.busy": "2024-09-23T08:19:16.965800Z",
     "iopub.status.idle": "2024-09-23T08:19:17.440286Z",
     "shell.execute_reply": "2024-09-23T08:19:17.439639Z"
    }
   },
   "outputs": [],
   "source": [
    "import datetime as dt\n",
    "from features import feature_engineering"
   ]
  },
  {
   "cell_type": "code",
   "execution_count": 2,
   "metadata": {
    "execution": {
     "iopub.execute_input": "2024-09-23T08:19:17.442590Z",
     "iopub.status.busy": "2024-09-23T08:19:17.442326Z",
     "iopub.status.idle": "2024-09-23T08:19:19.316236Z",
     "shell.execute_reply": "2024-09-23T08:19:19.315611Z"
    }
   },
   "outputs": [
    {
     "name": "stderr",
     "output_type": "stream",
     "text": [
      "\r",
      "[*********************100%***********************]  1 of 1 completed"
     ]
    },
    {
     "name": "stderr",
     "output_type": "stream",
     "text": [
      "\n",
      "\r",
      "[*********************100%***********************]  1 of 1 completed"
     ]
    },
    {
     "name": "stderr",
     "output_type": "stream",
     "text": [
      "\n",
      "/home/runner/work/mlopsbds/mlopsbds/features/feature_engineering.py:45: FutureWarning: Series.fillna with 'method' is deprecated and will raise in a future version. Use obj.ffill() or obj.bfill() instead.\n",
      "  df_merged[f'close{column_suffix}'].fillna(method='ffill', inplace=True)\n"
     ]
    },
    {
     "name": "stderr",
     "output_type": "stream",
     "text": [
      "\r",
      "[*********************100%***********************]  1 of 1 completed"
     ]
    },
    {
     "name": "stderr",
     "output_type": "stream",
     "text": [
      "\n"
     ]
    },
    {
     "name": "stderr",
     "output_type": "stream",
     "text": [
      "\r",
      "[*********************100%***********************]  1 of 1 completed"
     ]
    },
    {
     "name": "stderr",
     "output_type": "stream",
     "text": [
      "\n",
      "/home/runner/work/mlopsbds/mlopsbds/features/feature_engineering.py:45: FutureWarning: Series.fillna with 'method' is deprecated and will raise in a future version. Use obj.ffill() or obj.bfill() instead.\n",
      "  df_merged[f'close{column_suffix}'].fillna(method='ffill', inplace=True)\n",
      "/home/runner/work/mlopsbds/mlopsbds/features/feature_engineering.py:45: FutureWarning: Series.fillna with 'method' is deprecated and will raise in a future version. Use obj.ffill() or obj.bfill() instead.\n",
      "  df_merged[f'close{column_suffix}'].fillna(method='ffill', inplace=True)\n"
     ]
    },
    {
     "name": "stderr",
     "output_type": "stream",
     "text": [
      "/home/runner/work/mlopsbds/mlopsbds/features/feature_engineering.py:81: FutureWarning: Series.fillna with 'method' is deprecated and will raise in a future version. Use obj.ffill() or obj.bfill() instead.\n",
      "  df_merged['hash_rate'].fillna(method='ffill', inplace=True)\n"
     ]
    }
   ],
   "source": [
    "start_date = dt.date(2015, 1, 1)\n",
    "end_date = dt.date.today()\n",
    "df = feature_engineering.prepare_data(start_date=start_date, end_date=end_date)"
   ]
  },
  {
   "cell_type": "code",
   "execution_count": 3,
   "metadata": {
    "execution": {
     "iopub.execute_input": "2024-09-23T08:19:19.318259Z",
     "iopub.status.busy": "2024-09-23T08:19:19.317920Z",
     "iopub.status.idle": "2024-09-23T08:19:19.328940Z",
     "shell.execute_reply": "2024-09-23T08:19:19.328490Z"
    }
   },
   "outputs": [
    {
     "data": {
      "text/html": [
       "<div>\n",
       "<style scoped>\n",
       "    .dataframe tbody tr th:only-of-type {\n",
       "        vertical-align: middle;\n",
       "    }\n",
       "\n",
       "    .dataframe tbody tr th {\n",
       "        vertical-align: top;\n",
       "    }\n",
       "\n",
       "    .dataframe thead th {\n",
       "        text-align: right;\n",
       "    }\n",
       "</style>\n",
       "<table border=\"1\" class=\"dataframe\">\n",
       "  <thead>\n",
       "    <tr style=\"text-align: right;\">\n",
       "      <th></th>\n",
       "      <th>date</th>\n",
       "      <th>open</th>\n",
       "      <th>high</th>\n",
       "      <th>low</th>\n",
       "      <th>close</th>\n",
       "      <th>volume</th>\n",
       "      <th>ma7</th>\n",
       "      <th>ma21</th>\n",
       "      <th>bollinger_upper</th>\n",
       "      <th>bollinger_lower</th>\n",
       "      <th>lag7</th>\n",
       "      <th>volatility</th>\n",
       "      <th>close_usd_index</th>\n",
       "      <th>close_oil</th>\n",
       "      <th>close_gold</th>\n",
       "      <th>hash_rate</th>\n",
       "      <th>id</th>\n",
       "    </tr>\n",
       "  </thead>\n",
       "  <tbody>\n",
       "    <tr>\n",
       "      <th>3531</th>\n",
       "      <td>2024-09-21</td>\n",
       "      <td>63184.3398</td>\n",
       "      <td>63543.3594</td>\n",
       "      <td>62783.1055</td>\n",
       "      <td>63394.8398</td>\n",
       "      <td>14408616220</td>\n",
       "      <td>61265.9766</td>\n",
       "      <td>58595.6055</td>\n",
       "      <td>64108.6996</td>\n",
       "      <td>53082.5113</td>\n",
       "      <td>60005.1211</td>\n",
       "      <td>2077.6137</td>\n",
       "      <td>100.7200</td>\n",
       "      <td>71.9200</td>\n",
       "      <td>2619.8999</td>\n",
       "      <td>621908420.8244</td>\n",
       "      <td>3529</td>\n",
       "    </tr>\n",
       "    <tr>\n",
       "      <th>3532</th>\n",
       "      <td>2024-09-22</td>\n",
       "      <td>63396.8047</td>\n",
       "      <td>63993.4219</td>\n",
       "      <td>62440.7266</td>\n",
       "      <td>63648.7109</td>\n",
       "      <td>20183348802</td>\n",
       "      <td>61903.9587</td>\n",
       "      <td>58896.7113</td>\n",
       "      <td>64795.6562</td>\n",
       "      <td>52997.7664</td>\n",
       "      <td>59182.8359</td>\n",
       "      <td>2016.0883</td>\n",
       "      <td>100.7200</td>\n",
       "      <td>71.9200</td>\n",
       "      <td>2619.8999</td>\n",
       "      <td>621908420.8244</td>\n",
       "      <td>3530</td>\n",
       "    </tr>\n",
       "  </tbody>\n",
       "</table>\n",
       "</div>"
      ],
      "text/plain": [
       "           date       open       high        low      close       volume  \\\n",
       "3531 2024-09-21 63184.3398 63543.3594 62783.1055 63394.8398  14408616220   \n",
       "3532 2024-09-22 63396.8047 63993.4219 62440.7266 63648.7109  20183348802   \n",
       "\n",
       "            ma7       ma21  bollinger_upper  bollinger_lower       lag7  \\\n",
       "3531 61265.9766 58595.6055       64108.6996       53082.5113 60005.1211   \n",
       "3532 61903.9587 58896.7113       64795.6562       52997.7664 59182.8359   \n",
       "\n",
       "      volatility  close_usd_index  close_oil  close_gold      hash_rate    id  \n",
       "3531   2077.6137         100.7200    71.9200   2619.8999 621908420.8244  3529  \n",
       "3532   2016.0883         100.7200    71.9200   2619.8999 621908420.8244  3530  "
      ]
     },
     "execution_count": 3,
     "metadata": {},
     "output_type": "execute_result"
    }
   ],
   "source": [
    "df_new_data = df.tail(2)\n",
    "df_new_data"
   ]
  },
  {
   "cell_type": "code",
   "execution_count": 4,
   "metadata": {
    "execution": {
     "iopub.execute_input": "2024-09-23T08:19:19.330752Z",
     "iopub.status.busy": "2024-09-23T08:19:19.330426Z",
     "iopub.status.idle": "2024-09-23T08:19:22.257489Z",
     "shell.execute_reply": "2024-09-23T08:19:22.256889Z"
    }
   },
   "outputs": [
    {
     "name": "stdout",
     "output_type": "stream",
     "text": [
      "Connected. Call `.close()` to terminate connection gracefully.\n"
     ]
    },
    {
     "name": "stdout",
     "output_type": "stream",
     "text": [
      "\n",
      "Logged in to project, explore it here https://c.app.hopsworks.ai:443/p/556181\n"
     ]
    },
    {
     "name": "stdout",
     "output_type": "stream",
     "text": [
      "Connected. Call `.close()` to terminate connection gracefully.\n"
     ]
    }
   ],
   "source": [
    "import hopsworks\n",
    "\n",
    "project = hopsworks.login()\n",
    "\n",
    "fs = project.get_feature_store()"
   ]
  },
  {
   "cell_type": "code",
   "execution_count": 5,
   "metadata": {
    "execution": {
     "iopub.execute_input": "2024-09-23T08:19:22.259296Z",
     "iopub.status.busy": "2024-09-23T08:19:22.259124Z",
     "iopub.status.idle": "2024-09-23T08:19:22.502091Z",
     "shell.execute_reply": "2024-09-23T08:19:22.501640Z"
    }
   },
   "outputs": [],
   "source": [
    "btc_price_movement_prediction_fg = fs.get_feature_group(\n",
    "    name=\"bitcoin_price_movement\",\n",
    "    version=2\n",
    ")\n",
    "\n",
    "#btc_price_movement_prediction_fg.insert(df_new_data)"
   ]
  }
 ],
 "metadata": {
  "kernelspec": {
   "display_name": "Python 3",
   "language": "python",
   "name": "python3"
  },
  "language_info": {
   "codemirror_mode": {
    "name": "ipython",
    "version": 3
   },
   "file_extension": ".py",
   "mimetype": "text/x-python",
   "name": "python",
   "nbconvert_exporter": "python",
   "pygments_lexer": "ipython3",
   "version": "3.11.9"
  }
 },
 "nbformat": 4,
 "nbformat_minor": 2
}
