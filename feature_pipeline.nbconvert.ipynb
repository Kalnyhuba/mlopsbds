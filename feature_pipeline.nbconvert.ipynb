{
 "cells": [
  {
   "cell_type": "code",
   "execution_count": 1,
   "metadata": {
    "execution": {
     "iopub.execute_input": "2024-09-29T08:17:44.055440Z",
     "iopub.status.busy": "2024-09-29T08:17:44.055276Z",
     "iopub.status.idle": "2024-09-29T08:17:44.532643Z",
     "shell.execute_reply": "2024-09-29T08:17:44.532089Z"
    }
   },
   "outputs": [],
   "source": [
    "import datetime as dt\n",
    "from features import feature_engineering"
   ]
  },
  {
   "cell_type": "code",
   "execution_count": 2,
   "metadata": {
    "execution": {
     "iopub.execute_input": "2024-09-29T08:17:44.534777Z",
     "iopub.status.busy": "2024-09-29T08:17:44.534529Z",
     "iopub.status.idle": "2024-09-29T08:17:45.505720Z",
     "shell.execute_reply": "2024-09-29T08:17:45.505192Z"
    }
   },
   "outputs": [
    {
     "name": "stderr",
     "output_type": "stream",
     "text": [
      "\r",
      "[*********************100%***********************]  1 of 1 completed"
     ]
    },
    {
     "name": "stderr",
     "output_type": "stream",
     "text": [
      "\n",
      "\r",
      "[*********************100%***********************]  1 of 1 completed"
     ]
    },
    {
     "name": "stderr",
     "output_type": "stream",
     "text": [
      "\n",
      "/home/runner/work/mlopsbds/mlopsbds/features/feature_engineering.py:45: FutureWarning: Series.fillna with 'method' is deprecated and will raise in a future version. Use obj.ffill() or obj.bfill() instead.\n",
      "  df_merged[f'close{column_suffix}'].fillna(method='ffill', inplace=True)\n"
     ]
    },
    {
     "name": "stderr",
     "output_type": "stream",
     "text": [
      "\r",
      "[*********************100%***********************]  1 of 1 completed"
     ]
    },
    {
     "name": "stderr",
     "output_type": "stream",
     "text": [
      "\n"
     ]
    },
    {
     "name": "stderr",
     "output_type": "stream",
     "text": [
      "\r",
      "[*********************100%***********************]  1 of 1 completed"
     ]
    },
    {
     "name": "stderr",
     "output_type": "stream",
     "text": [
      "\n",
      "/home/runner/work/mlopsbds/mlopsbds/features/feature_engineering.py:45: FutureWarning: Series.fillna with 'method' is deprecated and will raise in a future version. Use obj.ffill() or obj.bfill() instead.\n",
      "  df_merged[f'close{column_suffix}'].fillna(method='ffill', inplace=True)\n",
      "/home/runner/work/mlopsbds/mlopsbds/features/feature_engineering.py:45: FutureWarning: Series.fillna with 'method' is deprecated and will raise in a future version. Use obj.ffill() or obj.bfill() instead.\n",
      "  df_merged[f'close{column_suffix}'].fillna(method='ffill', inplace=True)\n"
     ]
    },
    {
     "name": "stderr",
     "output_type": "stream",
     "text": [
      "/home/runner/work/mlopsbds/mlopsbds/features/feature_engineering.py:81: FutureWarning: Series.fillna with 'method' is deprecated and will raise in a future version. Use obj.ffill() or obj.bfill() instead.\n",
      "  df_merged['hash_rate'].fillna(method='ffill', inplace=True)\n"
     ]
    }
   ],
   "source": [
    "start_date = dt.date(2015, 1, 1)\n",
    "end_date = dt.date.today()\n",
    "df = feature_engineering.prepare_data(start_date=start_date, end_date=end_date)"
   ]
  },
  {
   "cell_type": "code",
   "execution_count": 3,
   "metadata": {
    "execution": {
     "iopub.execute_input": "2024-09-29T08:17:45.507530Z",
     "iopub.status.busy": "2024-09-29T08:17:45.507355Z",
     "iopub.status.idle": "2024-09-29T08:17:45.518488Z",
     "shell.execute_reply": "2024-09-29T08:17:45.518029Z"
    }
   },
   "outputs": [
    {
     "data": {
      "text/html": [
       "<div>\n",
       "<style scoped>\n",
       "    .dataframe tbody tr th:only-of-type {\n",
       "        vertical-align: middle;\n",
       "    }\n",
       "\n",
       "    .dataframe tbody tr th {\n",
       "        vertical-align: top;\n",
       "    }\n",
       "\n",
       "    .dataframe thead th {\n",
       "        text-align: right;\n",
       "    }\n",
       "</style>\n",
       "<table border=\"1\" class=\"dataframe\">\n",
       "  <thead>\n",
       "    <tr style=\"text-align: right;\">\n",
       "      <th></th>\n",
       "      <th>date</th>\n",
       "      <th>open</th>\n",
       "      <th>high</th>\n",
       "      <th>low</th>\n",
       "      <th>close</th>\n",
       "      <th>volume</th>\n",
       "      <th>ma7</th>\n",
       "      <th>ma21</th>\n",
       "      <th>bollinger_upper</th>\n",
       "      <th>bollinger_lower</th>\n",
       "      <th>lag7</th>\n",
       "      <th>volatility</th>\n",
       "      <th>close_usd_index</th>\n",
       "      <th>close_oil</th>\n",
       "      <th>close_gold</th>\n",
       "      <th>hash_rate</th>\n",
       "      <th>id</th>\n",
       "    </tr>\n",
       "  </thead>\n",
       "  <tbody>\n",
       "    <tr>\n",
       "      <th>3537</th>\n",
       "      <td>2024-09-27</td>\n",
       "      <td>65180.6641</td>\n",
       "      <td>66480.6953</td>\n",
       "      <td>64852.9922</td>\n",
       "      <td>65790.6641</td>\n",
       "      <td>32058813449</td>\n",
       "      <td>64112.8783</td>\n",
       "      <td>60664.4405</td>\n",
       "      <td>67406.3396</td>\n",
       "      <td>53922.5414</td>\n",
       "      <td>63192.9766</td>\n",
       "      <td>1022.7635</td>\n",
       "      <td>100.4180</td>\n",
       "      <td>68.6400</td>\n",
       "      <td>2680.8000</td>\n",
       "      <td>657005311.2677</td>\n",
       "      <td>3535</td>\n",
       "    </tr>\n",
       "    <tr>\n",
       "      <th>3538</th>\n",
       "      <td>2024-09-28</td>\n",
       "      <td>65792.1797</td>\n",
       "      <td>66255.5312</td>\n",
       "      <td>65458.0352</td>\n",
       "      <td>65887.6484</td>\n",
       "      <td>15243637984</td>\n",
       "      <td>64468.9939</td>\n",
       "      <td>61223.8672</td>\n",
       "      <td>67633.2883</td>\n",
       "      <td>54814.4461</td>\n",
       "      <td>63394.8398</td>\n",
       "      <td>1156.3428</td>\n",
       "      <td>100.4180</td>\n",
       "      <td>68.6400</td>\n",
       "      <td>2680.8000</td>\n",
       "      <td>657005311.2677</td>\n",
       "      <td>3536</td>\n",
       "    </tr>\n",
       "  </tbody>\n",
       "</table>\n",
       "</div>"
      ],
      "text/plain": [
       "           date       open       high        low      close       volume  \\\n",
       "3537 2024-09-27 65180.6641 66480.6953 64852.9922 65790.6641  32058813449   \n",
       "3538 2024-09-28 65792.1797 66255.5312 65458.0352 65887.6484  15243637984   \n",
       "\n",
       "            ma7       ma21  bollinger_upper  bollinger_lower       lag7  \\\n",
       "3537 64112.8783 60664.4405       67406.3396       53922.5414 63192.9766   \n",
       "3538 64468.9939 61223.8672       67633.2883       54814.4461 63394.8398   \n",
       "\n",
       "      volatility  close_usd_index  close_oil  close_gold      hash_rate    id  \n",
       "3537   1022.7635         100.4180    68.6400   2680.8000 657005311.2677  3535  \n",
       "3538   1156.3428         100.4180    68.6400   2680.8000 657005311.2677  3536  "
      ]
     },
     "execution_count": 3,
     "metadata": {},
     "output_type": "execute_result"
    }
   ],
   "source": [
    "df_new_data = df.tail(2)\n",
    "df_new_data"
   ]
  },
  {
   "cell_type": "code",
   "execution_count": 4,
   "metadata": {
    "execution": {
     "iopub.execute_input": "2024-09-29T08:17:45.520242Z",
     "iopub.status.busy": "2024-09-29T08:17:45.519892Z",
     "iopub.status.idle": "2024-09-29T08:17:47.872627Z",
     "shell.execute_reply": "2024-09-29T08:17:47.872127Z"
    }
   },
   "outputs": [
    {
     "name": "stdout",
     "output_type": "stream",
     "text": [
      "Connected. Call `.close()` to terminate connection gracefully.\n"
     ]
    },
    {
     "name": "stdout",
     "output_type": "stream",
     "text": [
      "\n",
      "Logged in to project, explore it here https://c.app.hopsworks.ai:443/p/556181\n"
     ]
    },
    {
     "name": "stdout",
     "output_type": "stream",
     "text": [
      "Connected. Call `.close()` to terminate connection gracefully.\n"
     ]
    }
   ],
   "source": [
    "import hopsworks\n",
    "\n",
    "project = hopsworks.login()\n",
    "\n",
    "fs = project.get_feature_store()"
   ]
  },
  {
   "cell_type": "code",
   "execution_count": 5,
   "metadata": {
    "execution": {
     "iopub.execute_input": "2024-09-29T08:17:47.874387Z",
     "iopub.status.busy": "2024-09-29T08:17:47.874216Z",
     "iopub.status.idle": "2024-09-29T08:17:48.065705Z",
     "shell.execute_reply": "2024-09-29T08:17:48.065127Z"
    }
   },
   "outputs": [],
   "source": [
    "btc_price_movement_prediction_fg = fs.get_feature_group(\n",
    "    name=\"bitcoin_price_movement\",\n",
    "    version=2\n",
    ")\n",
    "\n",
    "#btc_price_movement_prediction_fg.insert(df_new_data)"
   ]
  }
 ],
 "metadata": {
  "kernelspec": {
   "display_name": "Python 3",
   "language": "python",
   "name": "python3"
  },
  "language_info": {
   "codemirror_mode": {
    "name": "ipython",
    "version": 3
   },
   "file_extension": ".py",
   "mimetype": "text/x-python",
   "name": "python",
   "nbconvert_exporter": "python",
   "pygments_lexer": "ipython3",
   "version": "3.11.9"
  }
 },
 "nbformat": 4,
 "nbformat_minor": 2
}
