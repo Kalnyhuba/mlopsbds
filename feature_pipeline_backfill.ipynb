{
 "cells": [
  {
   "cell_type": "code",
   "execution_count": 1,
   "metadata": {},
   "outputs": [],
   "source": [
    "from datetime import datetime\n",
    "from features import feature_engineering"
   ]
  },
  {
   "cell_type": "code",
   "execution_count": 2,
   "metadata": {},
   "outputs": [],
   "source": [
    "start = datetime(2015, 1, 1)\n",
    "end = datetime.now().date().isoformat()"
   ]
  },
  {
   "cell_type": "code",
   "execution_count": 3,
   "metadata": {},
   "outputs": [
    {
     "name": "stderr",
     "output_type": "stream",
     "text": [
      "[*********************100%%**********************]  1 of 1 completed\n"
     ]
    }
   ],
   "source": [
    "btc = feature_engineering.process_bitcoin_data(start=start, end=end)"
   ]
  },
  {
   "cell_type": "code",
   "execution_count": 4,
   "metadata": {},
   "outputs": [
    {
     "data": {
      "text/html": [
       "<div>\n",
       "<style scoped>\n",
       "    .dataframe tbody tr th:only-of-type {\n",
       "        vertical-align: middle;\n",
       "    }\n",
       "\n",
       "    .dataframe tbody tr th {\n",
       "        vertical-align: top;\n",
       "    }\n",
       "\n",
       "    .dataframe thead th {\n",
       "        text-align: right;\n",
       "    }\n",
       "</style>\n",
       "<table border=\"1\" class=\"dataframe\">\n",
       "  <thead>\n",
       "    <tr style=\"text-align: right;\">\n",
       "      <th></th>\n",
       "      <th>timestamp</th>\n",
       "      <th>date</th>\n",
       "      <th>open</th>\n",
       "      <th>high</th>\n",
       "      <th>low</th>\n",
       "      <th>volume</th>\n",
       "      <th>close</th>\n",
       "      <th>tomorrow</th>\n",
       "    </tr>\n",
       "  </thead>\n",
       "  <tbody>\n",
       "    <tr>\n",
       "      <th>3408</th>\n",
       "      <td>1714514400000</td>\n",
       "      <td>2024-05-01</td>\n",
       "      <td>60609.496094</td>\n",
       "      <td>60780.500000</td>\n",
       "      <td>56555.292969</td>\n",
       "      <td>4.843978e+10</td>\n",
       "      <td>58254.011719</td>\n",
       "      <td>59123.433594</td>\n",
       "    </tr>\n",
       "    <tr>\n",
       "      <th>3409</th>\n",
       "      <td>1714600800000</td>\n",
       "      <td>2024-05-02</td>\n",
       "      <td>58253.703125</td>\n",
       "      <td>59602.296875</td>\n",
       "      <td>56937.203125</td>\n",
       "      <td>3.271181e+10</td>\n",
       "      <td>59123.433594</td>\n",
       "      <td>62889.835938</td>\n",
       "    </tr>\n",
       "    <tr>\n",
       "      <th>3410</th>\n",
       "      <td>1714687200000</td>\n",
       "      <td>2024-05-03</td>\n",
       "      <td>59122.300781</td>\n",
       "      <td>63320.503906</td>\n",
       "      <td>58848.312500</td>\n",
       "      <td>3.317202e+10</td>\n",
       "      <td>62889.835938</td>\n",
       "      <td>63891.472656</td>\n",
       "    </tr>\n",
       "    <tr>\n",
       "      <th>3411</th>\n",
       "      <td>1714773600000</td>\n",
       "      <td>2024-05-04</td>\n",
       "      <td>62891.031250</td>\n",
       "      <td>64494.957031</td>\n",
       "      <td>62599.351562</td>\n",
       "      <td>2.062048e+10</td>\n",
       "      <td>63891.472656</td>\n",
       "      <td>64031.132812</td>\n",
       "    </tr>\n",
       "    <tr>\n",
       "      <th>3412</th>\n",
       "      <td>1714860000000</td>\n",
       "      <td>2024-05-05</td>\n",
       "      <td>63892.453125</td>\n",
       "      <td>64610.890625</td>\n",
       "      <td>62955.304688</td>\n",
       "      <td>1.829616e+10</td>\n",
       "      <td>64031.132812</td>\n",
       "      <td>NaN</td>\n",
       "    </tr>\n",
       "  </tbody>\n",
       "</table>\n",
       "</div>"
      ],
      "text/plain": [
       "          timestamp        date          open          high           low  \\\n",
       "3408  1714514400000  2024-05-01  60609.496094  60780.500000  56555.292969   \n",
       "3409  1714600800000  2024-05-02  58253.703125  59602.296875  56937.203125   \n",
       "3410  1714687200000  2024-05-03  59122.300781  63320.503906  58848.312500   \n",
       "3411  1714773600000  2024-05-04  62891.031250  64494.957031  62599.351562   \n",
       "3412  1714860000000  2024-05-05  63892.453125  64610.890625  62955.304688   \n",
       "\n",
       "            volume         close      tomorrow  \n",
       "3408  4.843978e+10  58254.011719  59123.433594  \n",
       "3409  3.271181e+10  59123.433594  62889.835938  \n",
       "3410  3.317202e+10  62889.835938  63891.472656  \n",
       "3411  2.062048e+10  63891.472656  64031.132812  \n",
       "3412  1.829616e+10  64031.132812           NaN  "
      ]
     },
     "execution_count": 4,
     "metadata": {},
     "output_type": "execute_result"
    }
   ],
   "source": [
    "btc.tail()"
   ]
  },
  {
   "cell_type": "code",
   "execution_count": 5,
   "metadata": {},
   "outputs": [
    {
     "name": "stdout",
     "output_type": "stream",
     "text": [
      "<class 'pandas.core.frame.DataFrame'>\n",
      "RangeIndex: 3413 entries, 0 to 3412\n",
      "Data columns (total 8 columns):\n",
      " #   Column     Non-Null Count  Dtype  \n",
      "---  ------     --------------  -----  \n",
      " 0   timestamp  3413 non-null   int64  \n",
      " 1   date       3413 non-null   object \n",
      " 2   open       3413 non-null   float64\n",
      " 3   high       3413 non-null   float64\n",
      " 4   low        3413 non-null   float64\n",
      " 5   volume     3413 non-null   float64\n",
      " 6   close      3413 non-null   float64\n",
      " 7   tomorrow   3412 non-null   float64\n",
      "dtypes: float64(6), int64(1), object(1)\n",
      "memory usage: 213.4+ KB\n"
     ]
    }
   ],
   "source": [
    "btc.info()"
   ]
  },
  {
   "cell_type": "code",
   "execution_count": 6,
   "metadata": {},
   "outputs": [
    {
     "name": "stderr",
     "output_type": "stream",
     "text": [
      "C:\\Users\\hubak\\AppData\\Local\\Packages\\PythonSoftwareFoundation.Python.3.11_qbz5n2kfra8p0\\LocalCache\\local-packages\\Python311\\site-packages\\tqdm\\auto.py:21: TqdmWarning: IProgress not found. Please update jupyter and ipywidgets. See https://ipywidgets.readthedocs.io/en/stable/user_install.html\n",
      "  from .autonotebook import tqdm as notebook_tqdm\n"
     ]
    },
    {
     "name": "stdout",
     "output_type": "stream",
     "text": [
      "Connected. Call `.close()` to terminate connection gracefully.\n",
      "\n",
      "Logged in to project, explore it here https://c.app.hopsworks.ai:443/p/556181\n",
      "Connected. Call `.close()` to terminate connection gracefully.\n"
     ]
    }
   ],
   "source": [
    "import hopsworks\n",
    "\n",
    "project = hopsworks.login()\n",
    "\n",
    "fs = project.get_feature_store()"
   ]
  },
  {
   "cell_type": "code",
   "execution_count": 7,
   "metadata": {},
   "outputs": [
    {
     "name": "stdout",
     "output_type": "stream",
     "text": [
      "Feature Group created successfully, explore it at \n",
      "https://c.app.hopsworks.ai:443/p/556181/fs/552004/fg/786780\n"
     ]
    },
    {
     "name": "stderr",
     "output_type": "stream",
     "text": [
      "Uploading Dataframe: 100.00% |██████████| Rows 3413/3413 | Elapsed Time: 00:07 | Remaining Time: 00:00\n"
     ]
    },
    {
     "name": "stdout",
     "output_type": "stream",
     "text": [
      "Launching job: bitcoin_price_2_offline_fg_materialization\n",
      "Job started successfully, you can follow the progress at \n",
      "https://c.app.hopsworks.ai/p/556181/jobs/named/bitcoin_price_2_offline_fg_materialization/executions\n"
     ]
    },
    {
     "data": {
      "text/plain": [
       "(<hsfs.core.job.Job at 0x1c3ac703a90>, None)"
      ]
     },
     "execution_count": 7,
     "metadata": {},
     "output_type": "execute_result"
    }
   ],
   "source": [
    "btc_price_fg = fs.get_or_create_feature_group(\n",
    "    name='bitcoin_price',\n",
    "    description='Bitcoin price historical data',\n",
    "    version=2,\n",
    "    primary_key=['date', 'timestamp'],\n",
    "    online_enabled=True,\n",
    "    event_time='timestamp'\n",
    ")\n",
    "\n",
    "btc_price_fg.insert(btc)"
   ]
  }
 ],
 "metadata": {
  "kernelspec": {
   "display_name": "Python 3",
   "language": "python",
   "name": "python3"
  },
  "language_info": {
   "codemirror_mode": {
    "name": "ipython",
    "version": 3
   },
   "file_extension": ".py",
   "mimetype": "text/x-python",
   "name": "python",
   "nbconvert_exporter": "python",
   "pygments_lexer": "ipython3",
   "version": "3.11.9"
  }
 },
 "nbformat": 4,
 "nbformat_minor": 2
}
