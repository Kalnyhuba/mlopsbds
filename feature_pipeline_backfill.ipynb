{
 "cells": [
  {
   "cell_type": "code",
   "execution_count": 1,
   "metadata": {},
   "outputs": [],
   "source": [
    "from datetime import datetime, timedelta\n",
    "from features import feature_engineering"
   ]
  },
  {
   "cell_type": "code",
   "execution_count": 2,
   "metadata": {},
   "outputs": [],
   "source": [
    "start_date = datetime(2015, 1, 1)\n",
    "end_date = datetime.today() - timedelta(days=1)"
   ]
  },
  {
   "cell_type": "code",
   "execution_count": 3,
   "metadata": {},
   "outputs": [
    {
     "name": "stderr",
     "output_type": "stream",
     "text": [
      "[*********************100%%**********************]  1 of 1 completed\n",
      "[*********************100%%**********************]  1 of 1 completed\n",
      "c:\\Users\\hubak\\Desktop\\mlopsproject\\features\\feature_engineering.py:129: FutureWarning: Series.fillna with 'method' is deprecated and will raise in a future version. Use obj.ffill() or obj.bfill() instead.\n",
      "  df_merged[f'close{column_suffix}'].fillna(method='ffill', inplace=True)\n",
      "[*********************100%%**********************]  1 of 1 completed\n",
      "[*********************100%%**********************]  1 of 1 completed\n",
      "c:\\Users\\hubak\\Desktop\\mlopsproject\\features\\feature_engineering.py:129: FutureWarning: Series.fillna with 'method' is deprecated and will raise in a future version. Use obj.ffill() or obj.bfill() instead.\n",
      "  df_merged[f'close{column_suffix}'].fillna(method='ffill', inplace=True)\n",
      "c:\\Users\\hubak\\Desktop\\mlopsproject\\features\\feature_engineering.py:129: FutureWarning: Series.fillna with 'method' is deprecated and will raise in a future version. Use obj.ffill() or obj.bfill() instead.\n",
      "  df_merged[f'close{column_suffix}'].fillna(method='ffill', inplace=True)\n",
      "c:\\Users\\hubak\\Desktop\\mlopsproject\\features\\feature_engineering.py:165: FutureWarning: Series.fillna with 'method' is deprecated and will raise in a future version. Use obj.ffill() or obj.bfill() instead.\n",
      "  df_merged['hash_rate'].fillna(method='ffill', inplace=True)\n"
     ]
    }
   ],
   "source": [
    "btc = feature_engineering.prepare_data(start_date=start_date, end_date=end_date)"
   ]
  },
  {
   "cell_type": "code",
   "execution_count": 5,
   "metadata": {},
   "outputs": [
    {
     "data": {
      "text/html": [
       "<div>\n",
       "<style scoped>\n",
       "    .dataframe tbody tr th:only-of-type {\n",
       "        vertical-align: middle;\n",
       "    }\n",
       "\n",
       "    .dataframe tbody tr th {\n",
       "        vertical-align: top;\n",
       "    }\n",
       "\n",
       "    .dataframe thead th {\n",
       "        text-align: right;\n",
       "    }\n",
       "</style>\n",
       "<table border=\"1\" class=\"dataframe\">\n",
       "  <thead>\n",
       "    <tr style=\"text-align: right;\">\n",
       "      <th></th>\n",
       "      <th>date</th>\n",
       "      <th>open</th>\n",
       "      <th>high</th>\n",
       "      <th>low</th>\n",
       "      <th>close</th>\n",
       "      <th>volume</th>\n",
       "      <th>ma7</th>\n",
       "      <th>ma21</th>\n",
       "      <th>bollinger_upper</th>\n",
       "      <th>bollinger_lower</th>\n",
       "      <th>lag7</th>\n",
       "      <th>volatility</th>\n",
       "      <th>close_usd_index</th>\n",
       "      <th>close_oil</th>\n",
       "      <th>close_gold</th>\n",
       "      <th>hash_rate</th>\n",
       "      <th>id</th>\n",
       "    </tr>\n",
       "  </thead>\n",
       "  <tbody>\n",
       "    <tr>\n",
       "      <th>3</th>\n",
       "      <td>2015-01-24</td>\n",
       "      <td>232.7000</td>\n",
       "      <td>248.2100</td>\n",
       "      <td>230.0220</td>\n",
       "      <td>247.8470</td>\n",
       "      <td>24782500</td>\n",
       "      <td>225.3634</td>\n",
       "      <td>242.8530</td>\n",
       "      <td>312.1796</td>\n",
       "      <td>173.5264</td>\n",
       "      <td>199.2600</td>\n",
       "      <td>13.9189</td>\n",
       "      <td>95.0000</td>\n",
       "      <td>45.5900</td>\n",
       "      <td>1292.6000</td>\n",
       "      <td>264487.0244</td>\n",
       "      <td>1</td>\n",
       "    </tr>\n",
       "    <tr>\n",
       "      <th>4</th>\n",
       "      <td>2015-01-25</td>\n",
       "      <td>247.3520</td>\n",
       "      <td>255.0740</td>\n",
       "      <td>243.8900</td>\n",
       "      <td>253.7180</td>\n",
       "      <td>33582700</td>\n",
       "      <td>231.5604</td>\n",
       "      <td>242.3541</td>\n",
       "      <td>311.1846</td>\n",
       "      <td>173.5235</td>\n",
       "      <td>210.3390</td>\n",
       "      <td>15.6623</td>\n",
       "      <td>95.0000</td>\n",
       "      <td>45.5900</td>\n",
       "      <td>1292.6000</td>\n",
       "      <td>264487.0244</td>\n",
       "      <td>2</td>\n",
       "    </tr>\n",
       "    <tr>\n",
       "      <th>5</th>\n",
       "      <td>2015-01-26</td>\n",
       "      <td>254.0790</td>\n",
       "      <td>309.3840</td>\n",
       "      <td>254.0790</td>\n",
       "      <td>273.4730</td>\n",
       "      <td>106794000</td>\n",
       "      <td>239.9336</td>\n",
       "      <td>242.3064</td>\n",
       "      <td>311.0449</td>\n",
       "      <td>173.5680</td>\n",
       "      <td>214.8610</td>\n",
       "      <td>20.2438</td>\n",
       "      <td>94.8000</td>\n",
       "      <td>45.1500</td>\n",
       "      <td>1279.4000</td>\n",
       "      <td>264487.0244</td>\n",
       "      <td>3</td>\n",
       "    </tr>\n",
       "    <tr>\n",
       "      <th>6</th>\n",
       "      <td>2015-01-27</td>\n",
       "      <td>273.1670</td>\n",
       "      <td>275.4800</td>\n",
       "      <td>250.6530</td>\n",
       "      <td>263.4750</td>\n",
       "      <td>44399000</td>\n",
       "      <td>247.3850</td>\n",
       "      <td>241.2248</td>\n",
       "      <td>307.7421</td>\n",
       "      <td>174.7075</td>\n",
       "      <td>211.3150</td>\n",
       "      <td>17.3464</td>\n",
       "      <td>94.0200</td>\n",
       "      <td>46.2300</td>\n",
       "      <td>1291.7000</td>\n",
       "      <td>264487.0244</td>\n",
       "      <td>4</td>\n",
       "    </tr>\n",
       "    <tr>\n",
       "      <th>7</th>\n",
       "      <td>2015-01-28</td>\n",
       "      <td>263.3510</td>\n",
       "      <td>266.5350</td>\n",
       "      <td>227.0460</td>\n",
       "      <td>233.9150</td>\n",
       "      <td>44352200</td>\n",
       "      <td>248.3876</td>\n",
       "      <td>238.3476</td>\n",
       "      <td>300.2853</td>\n",
       "      <td>176.4098</td>\n",
       "      <td>226.8970</td>\n",
       "      <td>16.1247</td>\n",
       "      <td>94.4700</td>\n",
       "      <td>44.4500</td>\n",
       "      <td>1285.9000</td>\n",
       "      <td>324166.3390</td>\n",
       "      <td>5</td>\n",
       "    </tr>\n",
       "  </tbody>\n",
       "</table>\n",
       "</div>"
      ],
      "text/plain": [
       "        date     open     high      low    close     volume      ma7     ma21  \\\n",
       "3 2015-01-24 232.7000 248.2100 230.0220 247.8470   24782500 225.3634 242.8530   \n",
       "4 2015-01-25 247.3520 255.0740 243.8900 253.7180   33582700 231.5604 242.3541   \n",
       "5 2015-01-26 254.0790 309.3840 254.0790 273.4730  106794000 239.9336 242.3064   \n",
       "6 2015-01-27 273.1670 275.4800 250.6530 263.4750   44399000 247.3850 241.2248   \n",
       "7 2015-01-28 263.3510 266.5350 227.0460 233.9150   44352200 248.3876 238.3476   \n",
       "\n",
       "   bollinger_upper  bollinger_lower     lag7  volatility  close_usd_index  \\\n",
       "3         312.1796         173.5264 199.2600     13.9189          95.0000   \n",
       "4         311.1846         173.5235 210.3390     15.6623          95.0000   \n",
       "5         311.0449         173.5680 214.8610     20.2438          94.8000   \n",
       "6         307.7421         174.7075 211.3150     17.3464          94.0200   \n",
       "7         300.2853         176.4098 226.8970     16.1247          94.4700   \n",
       "\n",
       "   close_oil  close_gold   hash_rate  id  \n",
       "3    45.5900   1292.6000 264487.0244   1  \n",
       "4    45.5900   1292.6000 264487.0244   2  \n",
       "5    45.1500   1279.4000 264487.0244   3  \n",
       "6    46.2300   1291.7000 264487.0244   4  \n",
       "7    44.4500   1285.9000 324166.3390   5  "
      ]
     },
     "execution_count": 5,
     "metadata": {},
     "output_type": "execute_result"
    }
   ],
   "source": [
    "btc.head()"
   ]
  },
  {
   "cell_type": "code",
   "execution_count": 6,
   "metadata": {},
   "outputs": [
    {
     "name": "stdout",
     "output_type": "stream",
     "text": [
      "<class 'pandas.core.frame.DataFrame'>\n",
      "Index: 3412 entries, 3 to 3414\n",
      "Data columns (total 17 columns):\n",
      " #   Column           Non-Null Count  Dtype         \n",
      "---  ------           --------------  -----         \n",
      " 0   date             3412 non-null   datetime64[ns]\n",
      " 1   open             3412 non-null   float64       \n",
      " 2   high             3412 non-null   float64       \n",
      " 3   low              3412 non-null   float64       \n",
      " 4   close            3412 non-null   float64       \n",
      " 5   volume           3412 non-null   int64         \n",
      " 6   ma7              3412 non-null   float64       \n",
      " 7   ma21             3412 non-null   float64       \n",
      " 8   bollinger_upper  3412 non-null   float64       \n",
      " 9   bollinger_lower  3412 non-null   float64       \n",
      " 10  lag7             3412 non-null   float64       \n",
      " 11  volatility       3412 non-null   float64       \n",
      " 12  close_usd_index  3412 non-null   float64       \n",
      " 13  close_oil        3412 non-null   float64       \n",
      " 14  close_gold       3412 non-null   float64       \n",
      " 15  hash_rate        3412 non-null   float64       \n",
      " 16  id               3412 non-null   int64         \n",
      "dtypes: datetime64[ns](1), float64(14), int64(2)\n",
      "memory usage: 479.8 KB\n"
     ]
    }
   ],
   "source": [
    "btc.info()"
   ]
  },
  {
   "cell_type": "code",
   "execution_count": 7,
   "metadata": {},
   "outputs": [
    {
     "name": "stderr",
     "output_type": "stream",
     "text": [
      "C:\\Users\\hubak\\AppData\\Local\\Packages\\PythonSoftwareFoundation.Python.3.11_qbz5n2kfra8p0\\LocalCache\\local-packages\\Python311\\site-packages\\tqdm\\auto.py:21: TqdmWarning: IProgress not found. Please update jupyter and ipywidgets. See https://ipywidgets.readthedocs.io/en/stable/user_install.html\n",
      "  from .autonotebook import tqdm as notebook_tqdm\n"
     ]
    },
    {
     "name": "stdout",
     "output_type": "stream",
     "text": [
      "Connected. Call `.close()` to terminate connection gracefully.\n",
      "\n",
      "Logged in to project, explore it here https://c.app.hopsworks.ai:443/p/556181\n",
      "Connected. Call `.close()` to terminate connection gracefully.\n"
     ]
    }
   ],
   "source": [
    "import hopsworks\n",
    "\n",
    "project = hopsworks.login()\n",
    "\n",
    "fs = project.get_feature_store()"
   ]
  },
  {
   "cell_type": "code",
   "execution_count": 8,
   "metadata": {},
   "outputs": [
    {
     "name": "stdout",
     "output_type": "stream",
     "text": [
      "Feature Group created successfully, explore it at \n",
      "https://c.app.hopsworks.ai:443/p/556181/fs/552004/fg/857442\n"
     ]
    },
    {
     "name": "stderr",
     "output_type": "stream",
     "text": [
      "Uploading Dataframe: 100.00% |██████████| Rows 3412/3412 | Elapsed Time: 00:08 | Remaining Time: 00:00\n"
     ]
    },
    {
     "name": "stdout",
     "output_type": "stream",
     "text": [
      "Launching job: bitcoin_analysis_1_offline_fg_materialization\n",
      "Job started successfully, you can follow the progress at \n",
      "https://c.app.hopsworks.ai/p/556181/jobs/named/bitcoin_analysis_1_offline_fg_materialization/executions\n"
     ]
    },
    {
     "data": {
      "text/plain": [
       "(<hsfs.core.job.Job at 0x1d96f7e2b90>, None)"
      ]
     },
     "execution_count": 8,
     "metadata": {},
     "output_type": "execute_result"
    }
   ],
   "source": [
    "btc_analysis_fg = fs.get_or_create_feature_group(\n",
    "    name='bitcoin_analysis',\n",
    "    description='Historical data about features that help to predict the price of Bitcoin',\n",
    "    version=1,\n",
    "    primary_key=['id'],\n",
    "    event_time='date'\n",
    ")\n",
    "\n",
    "btc_analysis_fg.insert(btc)"
   ]
  }
 ],
 "metadata": {
  "kernelspec": {
   "display_name": "Python 3",
   "language": "python",
   "name": "python3"
  },
  "language_info": {
   "codemirror_mode": {
    "name": "ipython",
    "version": 3
   },
   "file_extension": ".py",
   "mimetype": "text/x-python",
   "name": "python",
   "nbconvert_exporter": "python",
   "pygments_lexer": "ipython3",
   "version": "3.11.9"
  }
 },
 "nbformat": 4,
 "nbformat_minor": 2
}
