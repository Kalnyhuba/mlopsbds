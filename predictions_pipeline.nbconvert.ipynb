{
 "cells": [
  {
   "cell_type": "code",
   "execution_count": 1,
   "metadata": {
    "execution": {
     "iopub.execute_input": "2024-10-09T08:18:53.866459Z",
     "iopub.status.busy": "2024-10-09T08:18:53.866290Z",
     "iopub.status.idle": "2024-10-09T08:18:57.078973Z",
     "shell.execute_reply": "2024-10-09T08:18:57.078404Z"
    }
   },
   "outputs": [
    {
     "name": "stdout",
     "output_type": "stream",
     "text": [
      "Connected. Call `.close()` to terminate connection gracefully.\n"
     ]
    },
    {
     "name": "stdout",
     "output_type": "stream",
     "text": [
      "\n",
      "Logged in to project, explore it here https://c.app.hopsworks.ai:443/p/556181\n"
     ]
    },
    {
     "name": "stdout",
     "output_type": "stream",
     "text": [
      "Connected. Call `.close()` to terminate connection gracefully.\n"
     ]
    },
    {
     "name": "stdout",
     "output_type": "stream",
     "text": [
      "Connected. Call `.close()` to terminate connection gracefully.\n"
     ]
    }
   ],
   "source": [
    "import hopsworks\n",
    "\n",
    "project = hopsworks.login()\n",
    "\n",
    "fs = project.get_feature_store()\n",
    "mr = project.get_model_registry()"
   ]
  },
  {
   "cell_type": "code",
   "execution_count": 2,
   "metadata": {
    "execution": {
     "iopub.execute_input": "2024-10-09T08:18:57.080869Z",
     "iopub.status.busy": "2024-10-09T08:18:57.080664Z",
     "iopub.status.idle": "2024-10-09T08:18:57.717866Z",
     "shell.execute_reply": "2024-10-09T08:18:57.717222Z"
    }
   },
   "outputs": [],
   "source": [
    "feature_view = fs.get_feature_view(\n",
    "    name='bitcoin_price_movement_training_fv',\n",
    "    version=2\n",
    ")"
   ]
  },
  {
   "cell_type": "code",
   "execution_count": 3,
   "metadata": {
    "execution": {
     "iopub.execute_input": "2024-10-09T08:18:57.719837Z",
     "iopub.status.busy": "2024-10-09T08:18:57.719646Z",
     "iopub.status.idle": "2024-10-09T08:18:57.903021Z",
     "shell.execute_reply": "2024-10-09T08:18:57.902435Z"
    }
   },
   "outputs": [],
   "source": [
    "bitcoin_fg = fs.get_feature_group(\n",
    "    name='bitcoin_price_movement',\n",
    "    version=2\n",
    ")"
   ]
  },
  {
   "cell_type": "code",
   "execution_count": 4,
   "metadata": {
    "execution": {
     "iopub.execute_input": "2024-10-09T08:18:57.905045Z",
     "iopub.status.busy": "2024-10-09T08:18:57.904864Z",
     "iopub.status.idle": "2024-10-09T08:18:58.634309Z",
     "shell.execute_reply": "2024-10-09T08:18:58.633762Z"
    }
   },
   "outputs": [],
   "source": [
    "data = bitcoin_fg.select_all()\n",
    "version = 2\n",
    "feature_view = fs.get_or_create_feature_view(\n",
    "    name='bitcoin_price_movement_training_fv',\n",
    "    version=version,\n",
    "    query=data\n",
    ")"
   ]
  },
  {
   "cell_type": "code",
   "execution_count": 5,
   "metadata": {
    "execution": {
     "iopub.execute_input": "2024-10-09T08:18:58.636467Z",
     "iopub.status.busy": "2024-10-09T08:18:58.636109Z",
     "iopub.status.idle": "2024-10-09T08:19:00.647793Z",
     "shell.execute_reply": "2024-10-09T08:19:00.647152Z"
    }
   },
   "outputs": [
    {
     "name": "stdout",
     "output_type": "stream",
     "text": [
      "Reading data from Hopsworks, using Hopsworks Feature Query Service.   \r"
     ]
    },
    {
     "name": "stdout",
     "output_type": "stream",
     "text": [
      "Reading data from Hopsworks, using Hopsworks Feature Query Service..   \r"
     ]
    },
    {
     "name": "stdout",
     "output_type": "stream",
     "text": [
      "\r",
      "Finished: Reading data from Hopsworks, using Hopsworks Feature Query Service (0.71s) \n"
     ]
    }
   ],
   "source": [
    "df = feature_view.get_batch_data()"
   ]
  },
  {
   "cell_type": "code",
   "execution_count": 6,
   "metadata": {
    "execution": {
     "iopub.execute_input": "2024-10-09T08:19:00.649670Z",
     "iopub.status.busy": "2024-10-09T08:19:00.649342Z",
     "iopub.status.idle": "2024-10-09T08:19:00.653506Z",
     "shell.execute_reply": "2024-10-09T08:19:00.652934Z"
    }
   },
   "outputs": [],
   "source": [
    "sorted_df = df.sort_values(by='id')"
   ]
  },
  {
   "cell_type": "code",
   "execution_count": 7,
   "metadata": {
    "execution": {
     "iopub.execute_input": "2024-10-09T08:19:00.655362Z",
     "iopub.status.busy": "2024-10-09T08:19:00.655040Z",
     "iopub.status.idle": "2024-10-09T08:19:00.669929Z",
     "shell.execute_reply": "2024-10-09T08:19:00.669327Z"
    }
   },
   "outputs": [
    {
     "data": {
      "text/html": [
       "<div>\n",
       "<style scoped>\n",
       "    .dataframe tbody tr th:only-of-type {\n",
       "        vertical-align: middle;\n",
       "    }\n",
       "\n",
       "    .dataframe tbody tr th {\n",
       "        vertical-align: top;\n",
       "    }\n",
       "\n",
       "    .dataframe thead th {\n",
       "        text-align: right;\n",
       "    }\n",
       "</style>\n",
       "<table border=\"1\" class=\"dataframe\">\n",
       "  <thead>\n",
       "    <tr style=\"text-align: right;\">\n",
       "      <th></th>\n",
       "      <th>date</th>\n",
       "      <th>open</th>\n",
       "      <th>high</th>\n",
       "      <th>low</th>\n",
       "      <th>close</th>\n",
       "      <th>volume</th>\n",
       "      <th>ma7</th>\n",
       "      <th>ma21</th>\n",
       "      <th>bollinger_upper</th>\n",
       "      <th>bollinger_lower</th>\n",
       "      <th>lag7</th>\n",
       "      <th>volatility</th>\n",
       "      <th>close_usd_index</th>\n",
       "      <th>close_oil</th>\n",
       "      <th>close_gold</th>\n",
       "      <th>hash_rate</th>\n",
       "      <th>id</th>\n",
       "    </tr>\n",
       "  </thead>\n",
       "  <tbody>\n",
       "    <tr>\n",
       "      <th>3497</th>\n",
       "      <td>2024-08-21 00:00:00+00:00</td>\n",
       "      <td>59014.988281</td>\n",
       "      <td>61834.351562</td>\n",
       "      <td>58823.445312</td>\n",
       "      <td>61175.191406</td>\n",
       "      <td>32731154072</td>\n",
       "      <td>59156.939732</td>\n",
       "      <td>59318.016555</td>\n",
       "      <td>64267.281803</td>\n",
       "      <td>54368.751307</td>\n",
       "      <td>58737.269531</td>\n",
       "      <td>1109.275007</td>\n",
       "      <td>101.040001</td>\n",
       "      <td>71.930000</td>\n",
       "      <td>2508.399902</td>\n",
       "      <td>6.477607e+08</td>\n",
       "      <td>3498</td>\n",
       "    </tr>\n",
       "    <tr>\n",
       "      <th>3496</th>\n",
       "      <td>2024-08-22 00:00:00+00:00</td>\n",
       "      <td>61168.316406</td>\n",
       "      <td>61408.109375</td>\n",
       "      <td>59815.253906</td>\n",
       "      <td>60381.914062</td>\n",
       "      <td>27625734377</td>\n",
       "      <td>59560.056362</td>\n",
       "      <td>59081.083891</td>\n",
       "      <td>63227.257338</td>\n",
       "      <td>54934.910445</td>\n",
       "      <td>57560.097656</td>\n",
       "      <td>930.598608</td>\n",
       "      <td>101.510002</td>\n",
       "      <td>73.010002</td>\n",
       "      <td>2478.899902</td>\n",
       "      <td>6.477607e+08</td>\n",
       "      <td>3499</td>\n",
       "    </tr>\n",
       "    <tr>\n",
       "      <th>3498</th>\n",
       "      <td>2024-08-23 00:00:00+00:00</td>\n",
       "      <td>60380.953125</td>\n",
       "      <td>64947.062500</td>\n",
       "      <td>60372.050781</td>\n",
       "      <td>64094.355469</td>\n",
       "      <td>42530509233</td>\n",
       "      <td>60302.949219</td>\n",
       "      <td>59208.669085</td>\n",
       "      <td>63797.728927</td>\n",
       "      <td>54619.609243</td>\n",
       "      <td>58894.105469</td>\n",
       "      <td>1890.733184</td>\n",
       "      <td>100.678001</td>\n",
       "      <td>74.959999</td>\n",
       "      <td>2548.699951</td>\n",
       "      <td>6.477607e+08</td>\n",
       "      <td>3500</td>\n",
       "    </tr>\n",
       "    <tr>\n",
       "      <th>3499</th>\n",
       "      <td>2024-08-24 00:00:00+00:00</td>\n",
       "      <td>64103.871094</td>\n",
       "      <td>64513.789062</td>\n",
       "      <td>63619.917969</td>\n",
       "      <td>64178.992188</td>\n",
       "      <td>21430585163</td>\n",
       "      <td>60974.380580</td>\n",
       "      <td>59375.283296</td>\n",
       "      <td>64420.150116</td>\n",
       "      <td>54330.416476</td>\n",
       "      <td>59478.972656</td>\n",
       "      <td>2332.318698</td>\n",
       "      <td>100.720001</td>\n",
       "      <td>74.830002</td>\n",
       "      <td>2508.399902</td>\n",
       "      <td>6.607159e+08</td>\n",
       "      <td>3501</td>\n",
       "    </tr>\n",
       "    <tr>\n",
       "      <th>3500</th>\n",
       "      <td>2024-08-25 00:00:00+00:00</td>\n",
       "      <td>64176.367188</td>\n",
       "      <td>64996.421875</td>\n",
       "      <td>63833.519531</td>\n",
       "      <td>64333.542969</td>\n",
       "      <td>18827683555</td>\n",
       "      <td>61810.034598</td>\n",
       "      <td>59671.310268</td>\n",
       "      <td>65119.505161</td>\n",
       "      <td>54223.115374</td>\n",
       "      <td>58483.964844</td>\n",
       "      <td>2339.224978</td>\n",
       "      <td>100.720001</td>\n",
       "      <td>74.830002</td>\n",
       "      <td>2508.399902</td>\n",
       "      <td>6.607159e+08</td>\n",
       "      <td>3502</td>\n",
       "    </tr>\n",
       "  </tbody>\n",
       "</table>\n",
       "</div>"
      ],
      "text/plain": [
       "                          date          open          high           low  \\\n",
       "3497 2024-08-21 00:00:00+00:00  59014.988281  61834.351562  58823.445312   \n",
       "3496 2024-08-22 00:00:00+00:00  61168.316406  61408.109375  59815.253906   \n",
       "3498 2024-08-23 00:00:00+00:00  60380.953125  64947.062500  60372.050781   \n",
       "3499 2024-08-24 00:00:00+00:00  64103.871094  64513.789062  63619.917969   \n",
       "3500 2024-08-25 00:00:00+00:00  64176.367188  64996.421875  63833.519531   \n",
       "\n",
       "             close       volume           ma7          ma21  bollinger_upper  \\\n",
       "3497  61175.191406  32731154072  59156.939732  59318.016555     64267.281803   \n",
       "3496  60381.914062  27625734377  59560.056362  59081.083891     63227.257338   \n",
       "3498  64094.355469  42530509233  60302.949219  59208.669085     63797.728927   \n",
       "3499  64178.992188  21430585163  60974.380580  59375.283296     64420.150116   \n",
       "3500  64333.542969  18827683555  61810.034598  59671.310268     65119.505161   \n",
       "\n",
       "      bollinger_lower          lag7   volatility  close_usd_index  close_oil  \\\n",
       "3497     54368.751307  58737.269531  1109.275007       101.040001  71.930000   \n",
       "3496     54934.910445  57560.097656   930.598608       101.510002  73.010002   \n",
       "3498     54619.609243  58894.105469  1890.733184       100.678001  74.959999   \n",
       "3499     54330.416476  59478.972656  2332.318698       100.720001  74.830002   \n",
       "3500     54223.115374  58483.964844  2339.224978       100.720001  74.830002   \n",
       "\n",
       "       close_gold     hash_rate    id  \n",
       "3497  2508.399902  6.477607e+08  3498  \n",
       "3496  2478.899902  6.477607e+08  3499  \n",
       "3498  2548.699951  6.477607e+08  3500  \n",
       "3499  2508.399902  6.607159e+08  3501  \n",
       "3500  2508.399902  6.607159e+08  3502  "
      ]
     },
     "execution_count": 7,
     "metadata": {},
     "output_type": "execute_result"
    }
   ],
   "source": [
    "sorted_df.tail()"
   ]
  },
  {
   "cell_type": "code",
   "execution_count": 8,
   "metadata": {
    "execution": {
     "iopub.execute_input": "2024-10-09T08:19:00.671868Z",
     "iopub.status.busy": "2024-10-09T08:19:00.671430Z",
     "iopub.status.idle": "2024-10-09T08:19:00.678444Z",
     "shell.execute_reply": "2024-10-09T08:19:00.677881Z"
    }
   },
   "outputs": [],
   "source": [
    "import numpy as np\n",
    "\n",
    "high_prices = sorted_df.loc[:, 'high'].values\n",
    "low_prices = sorted_df.loc[:, 'low'].values\n",
    "mid_prices = (high_prices + low_prices) / 2.0\n",
    "\n",
    "mid_price_changes = np.diff(mid_prices) / mid_prices[:-1] * 100\n",
    "mid_price_changes = np.insert(mid_price_changes, 0, 0)\n",
    "\n",
    "features = sorted_df[['volume', 'ma7', 'ma21', 'bollinger_upper', 'bollinger_lower', 'volatility', 'close_usd_index', 'close_oil', 'close_gold', 'hash_rate']].values\n",
    "feature_changes = np.diff(features, axis=0) / features[:-1] * 100\n",
    "feature_changes = np.insert(feature_changes, 0, 0, axis=0)\n",
    "\n",
    "combined_features = np.column_stack((mid_price_changes.reshape(-1, 1), feature_changes))"
   ]
  },
  {
   "cell_type": "code",
   "execution_count": 9,
   "metadata": {
    "execution": {
     "iopub.execute_input": "2024-10-09T08:19:00.680359Z",
     "iopub.status.busy": "2024-10-09T08:19:00.680044Z",
     "iopub.status.idle": "2024-10-09T08:19:00.693368Z",
     "shell.execute_reply": "2024-10-09T08:19:00.692692Z"
    }
   },
   "outputs": [],
   "source": [
    "sequence_length = 100\n",
    "sequence_data = []\n",
    "sequence_labels = []\n",
    "\n",
    "for i in range(len(combined_features) - sequence_length):\n",
    "    sequence_data.append(combined_features[i:i + sequence_length])\n",
    "    # Labels based on whether the next mid_price_change is positive (1) or negative (0)\n",
    "    sequence_labels.append(1 if mid_price_changes[i + sequence_length] > 0 else 0)\n",
    "\n",
    "sequence_data = np.array(sequence_data)\n",
    "sequence_labels = np.array(sequence_labels)"
   ]
  },
  {
   "cell_type": "code",
   "execution_count": 10,
   "metadata": {
    "execution": {
     "iopub.execute_input": "2024-10-09T08:19:00.695659Z",
     "iopub.status.busy": "2024-10-09T08:19:00.695326Z",
     "iopub.status.idle": "2024-10-09T08:19:02.135126Z",
     "shell.execute_reply": "2024-10-09T08:19:02.134445Z"
    }
   },
   "outputs": [],
   "source": [
    "import torch\n",
    "import torch.nn as nn\n",
    "import torch.optim as optim\n",
    "from torch.utils.data import DataLoader, TensorDataset\n",
    "from sklearn.metrics import classification_report\n",
    "\n",
    "split_index = int(len(sequence_data) * 0.8)\n",
    "train_data = sequence_data[:split_index]\n",
    "train_labels = sequence_labels[:split_index]\n",
    "test_data = sequence_data[split_index:]\n",
    "test_labels = sequence_labels[split_index:]\n",
    "\n",
    "train_data = TensorDataset(torch.from_numpy(train_data), torch.from_numpy(train_labels))\n",
    "test_data = TensorDataset(torch.from_numpy(test_data), torch.from_numpy(test_labels))\n",
    "\n",
    "train_loader = DataLoader(train_data, batch_size=32, shuffle=True)\n",
    "test_loader = DataLoader(test_data, batch_size=32, shuffle=False)"
   ]
  },
  {
   "cell_type": "code",
   "execution_count": 11,
   "metadata": {
    "execution": {
     "iopub.execute_input": "2024-10-09T08:19:02.137297Z",
     "iopub.status.busy": "2024-10-09T08:19:02.136956Z",
     "iopub.status.idle": "2024-10-09T08:19:03.122021Z",
     "shell.execute_reply": "2024-10-09T08:19:03.121456Z"
    }
   },
   "outputs": [],
   "source": [
    "# Creating LSTM model class, which defines the model's structure\n",
    "# We added dropout layer too, to try to tackle overfitting problem\n",
    "class LSTMModel(nn.Module):\n",
    "    def __init__(self, input_size, hidden_size, output_size):\n",
    "        super(LSTMModel, self).__init__()\n",
    "        self.lstm = nn.LSTM(input_size, hidden_size, batch_first=True)\n",
    "        self.fc = nn.Linear(hidden_size, output_size)\n",
    "        self.dropout = nn.Dropout(0.2)\n",
    "\n",
    "    def forward(self, x):\n",
    "        lstm_out, _ = self.lstm(x)\n",
    "        out = self.fc(self.dropout(lstm_out[:, -1, :]))\n",
    "        return out\n",
    "\n",
    "# Setting the input size of the model to match the number of features\n",
    "# Setting the number of neurons (hidden size) to 50\n",
    "# Setting the size of the output to 1, indicating that we will predict a single value (increase or decrease of the price)\n",
    "input_size = combined_features.shape[1]\n",
    "hidden_size = 30\n",
    "output_size = 1\n",
    "\n",
    "model = LSTMModel(input_size, hidden_size, output_size)\n",
    "\n",
    "# Hyperparameters\n",
    "epochs = 50\n",
    "learning_rate = 0.001\n",
    "\n",
    "train_losses = []\n",
    "test_losses = []\n",
    "\n",
    "# Early stopping parameters, these are added because early stopping method can reduce the risk of overfitting\n",
    "# Early stopping stops the training process when the model's performance doesn't improve on a validation set anymore\n",
    "# The patience parameter tells us through how many epochs we wait for improvement. If no improvement can be seen after 10, the training stops\n",
    "# We track the loss of the model and stop when we don't see improvement on it\n",
    "patience = 10\n",
    "best_loss = float('inf')\n",
    "epochs_no_improve = 0\n",
    "\n",
    "# We use Binary Cross Entropy Loss function and combine it with a sigmoid layer in one function, which is needed for the classification problem\n",
    "# We use Adam optimiser to adjust the parameters of the model to minimise loss during training\n",
    "criterion = nn.BCEWithLogitsLoss()\n",
    "optimizer = optim.Adam(model.parameters(), lr=learning_rate)"
   ]
  },
  {
   "cell_type": "code",
   "execution_count": 12,
   "metadata": {
    "execution": {
     "iopub.execute_input": "2024-10-09T08:19:03.124127Z",
     "iopub.status.busy": "2024-10-09T08:19:03.123811Z",
     "iopub.status.idle": "2024-10-09T08:19:04.796886Z",
     "shell.execute_reply": "2024-10-09T08:19:04.796321Z"
    }
   },
   "outputs": [
    {
     "name": "stdout",
     "output_type": "stream",
     "text": [
      "Downloading model artifact (0 dirs, 1 files)... \r",
      "Downloading model artifact (0 dirs, 2 files)... \r"
     ]
    },
    {
     "name": "stdout",
     "output_type": "stream",
     "text": [
      "Downloading model artifact (0 dirs, 3 files)... \r"
     ]
    },
    {
     "name": "stdout",
     "output_type": "stream",
     "text": [
      "Downloading model artifact (0 dirs, 4 files)... \r"
     ]
    },
    {
     "name": "stdout",
     "output_type": "stream",
     "text": [
      "Downloading model artifact (0 dirs, 5 files)... \r",
      "Downloading model artifact (0 dirs, 5 files)... DONE\r",
      "2024-10-09 08:19:04,792 WARNING: FutureWarning: You are using `torch.load` with `weights_only=False` (the current default value), which uses the default pickle module implicitly. It is possible to construct malicious pickle data which will execute arbitrary code during unpickling (See https://github.com/pytorch/pytorch/blob/main/SECURITY.md#untrusted-models for more details). In a future release, the default value for `weights_only` will be flipped to `True`. This limits the functions that could be executed during unpickling. Arbitrary objects will no longer be allowed to be loaded via this mode unless they are explicitly allowlisted by the user via `torch.serialization.add_safe_globals`. We recommend you start setting `weights_only=True` for any use case where you don't have full control of the loaded file. Please open an issue on GitHub for any issues related to this experimental feature.\n",
      "\n"
     ]
    },
    {
     "data": {
      "text/plain": [
       "LSTMModel(\n",
       "  (lstm): LSTM(11, 30, batch_first=True)\n",
       "  (fc): Linear(in_features=30, out_features=1, bias=True)\n",
       "  (dropout): Dropout(p=0.2, inplace=False)\n",
       ")"
      ]
     },
     "execution_count": 12,
     "metadata": {},
     "output_type": "execute_result"
    }
   ],
   "source": [
    "import torch\n",
    "model = mr.get_model(\n",
    "    name=\"bitcoin_price_movement_prediction_model_lstm\", \n",
    "    version=1\n",
    ")\n",
    "\n",
    "saved_model_dir = model.download()\n",
    "\n",
    "lstm_model = LSTMModel(input_size, hidden_size, output_size)\n",
    "lstm_model.load_state_dict(torch.load(saved_model_dir + \"/bitcoin_price_movement_prediction_lstm.pth\"))\n",
    "lstm_model.eval()"
   ]
  },
  {
   "cell_type": "code",
   "execution_count": 13,
   "metadata": {
    "execution": {
     "iopub.execute_input": "2024-10-09T08:19:04.798871Z",
     "iopub.status.busy": "2024-10-09T08:19:04.798522Z",
     "iopub.status.idle": "2024-10-09T08:19:04.802720Z",
     "shell.execute_reply": "2024-10-09T08:19:04.802257Z"
    }
   },
   "outputs": [],
   "source": [
    "def predict(model, data_loader):\n",
    "    model.eval()\n",
    "    predictions = []\n",
    "    true_labels = []\n",
    "\n",
    "    with torch.no_grad():\n",
    "        for data, label in data_loader:\n",
    "            data = data.float()\n",
    "            output = model(data)\n",
    "            predicted = torch.sigmoid(output).squeeze().tolist()\n",
    "            predictions.extend(predicted)\n",
    "            true_labels.extend(label.squeeze().tolist())\n",
    "\n",
    "    predictions = [1 if p >= 0.5 else 0 for p in predictions]\n",
    "    true_labels = [1 if a >= 0.5 else 0 for a in true_labels]\n",
    "\n",
    "    return predictions, true_labels"
   ]
  },
  {
   "cell_type": "code",
   "execution_count": 14,
   "metadata": {
    "execution": {
     "iopub.execute_input": "2024-10-09T08:19:04.804457Z",
     "iopub.status.busy": "2024-10-09T08:19:04.804292Z",
     "iopub.status.idle": "2024-10-09T08:19:04.885186Z",
     "shell.execute_reply": "2024-10-09T08:19:04.884552Z"
    }
   },
   "outputs": [
    {
     "name": "stdout",
     "output_type": "stream",
     "text": [
      "              precision    recall  f1-score   support\n",
      "\n",
      "           0       0.59      0.49      0.53       302\n",
      "           1       0.64      0.73      0.68       379\n",
      "\n",
      "    accuracy                           0.62       681\n",
      "   macro avg       0.61      0.61      0.61       681\n",
      "weighted avg       0.62      0.62      0.62       681\n",
      "\n"
     ]
    }
   ],
   "source": [
    "predictions, labels = predict(lstm_model, test_loader)\n",
    "\n",
    "predictions = np.array(predictions)\n",
    "true_labels = np.array(labels)\n",
    "\n",
    "print(classification_report(true_labels, predictions))"
   ]
  },
  {
   "cell_type": "code",
   "execution_count": 15,
   "metadata": {
    "execution": {
     "iopub.execute_input": "2024-10-09T08:19:04.886915Z",
     "iopub.status.busy": "2024-10-09T08:19:04.886739Z",
     "iopub.status.idle": "2024-10-09T08:19:04.903934Z",
     "shell.execute_reply": "2024-10-09T08:19:04.903314Z"
    }
   },
   "outputs": [
    {
     "name": "stdout",
     "output_type": "stream",
     "text": [
      "Future Predictions for next 2 days: ['Increase', 'Increase']\n"
     ]
    }
   ],
   "source": [
    "# This function creates forecasted values into the future, based on the latest sequence\n",
    "# It outputs a prediction whether the price would increase or decrease in the given time steps ahead in the future\n",
    "def forecast(model, data, sequence_length, steps_ahead):\n",
    "    model.eval()\n",
    "\n",
    "    data = np.array(data)\n",
    "    \n",
    "    current_sequence = data[-sequence_length:].reshape(1, sequence_length, -1)\n",
    "    predictions = []\n",
    "\n",
    "    with torch.no_grad():\n",
    "        for _ in range(steps_ahead):\n",
    "            input_seq = torch.tensor(current_sequence, dtype=torch.float32)\n",
    "            \n",
    "            output = model(input_seq)\n",
    "            predicted_value = torch.sigmoid(output).item()\n",
    "            \n",
    "            predicted_class = 1 if predicted_value >= 0.5 else 0\n",
    "            \n",
    "            predictions.append(predicted_class)\n",
    "            \n",
    "            new_sequence = np.append(current_sequence[0, 1:, :], [[predicted_class] * current_sequence.shape[2]], axis=0)\n",
    "            current_sequence = new_sequence.reshape(1, sequence_length, -1)\n",
    "    \n",
    "    return predictions\n",
    "\n",
    "# We use the forecast function on the combined dataset, for 2 days ahead in the future and print the predictions\n",
    "all_data = np.concatenate((train_data.tensors[0].numpy(), test_data.tensors[0].numpy())).reshape(-1, input_size)\n",
    "steps_ahead = 2\n",
    "future_predictions = forecast(lstm_model, all_data, sequence_length, steps_ahead)\n",
    "movement_interpretation = ['Increase' if pred == 1 else 'Decrease' for pred in future_predictions]\n",
    "\n",
    "print('Future Predictions for next 2 days:', movement_interpretation)"
   ]
  },
  {
   "cell_type": "code",
   "execution_count": 16,
   "metadata": {
    "execution": {
     "iopub.execute_input": "2024-10-09T08:19:04.905934Z",
     "iopub.status.busy": "2024-10-09T08:19:04.905554Z",
     "iopub.status.idle": "2024-10-09T08:19:04.910011Z",
     "shell.execute_reply": "2024-10-09T08:19:04.909422Z"
    }
   },
   "outputs": [],
   "source": [
    "def backtest_strategy(prices, predictions, initial_capital=100000):\n",
    "    capital = initial_capital\n",
    "    bitcoin_holdings = 0\n",
    "    \n",
    "    for t in range(len(prices)):\n",
    "        if predictions[t] == 1:  # Model predicts price will go up\n",
    "            if bitcoin_holdings == 0:  # Buy Bitcoin if not holding\n",
    "                bitcoin_holdings = capital / prices[t]\n",
    "                capital = 0\n",
    "        elif predictions[t] == 0:  # Model predicts price will go down\n",
    "            if bitcoin_holdings > 0:  # Sell Bitcoin if holding\n",
    "                capital = bitcoin_holdings * prices[t]\n",
    "                bitcoin_holdings = 0\n",
    "                \n",
    "    # Calculate final value (if any Bitcoin left, convert to cash)\n",
    "    final_value = capital + bitcoin_holdings * prices[-1]\n",
    "    return final_value"
   ]
  },
  {
   "cell_type": "code",
   "execution_count": 17,
   "metadata": {
    "execution": {
     "iopub.execute_input": "2024-10-09T08:19:04.911744Z",
     "iopub.status.busy": "2024-10-09T08:19:04.911390Z",
     "iopub.status.idle": "2024-10-09T08:19:04.915525Z",
     "shell.execute_reply": "2024-10-09T08:19:04.915069Z"
    }
   },
   "outputs": [
    {
     "name": "stdout",
     "output_type": "stream",
     "text": [
      "Return on Investment (ROI): 11.50%\n",
      "Final capital after 30 days: $111503.33\n"
     ]
    }
   ],
   "source": [
    "initial_capital = 100000\n",
    "prices = sorted_df['close'].tail(30).to_numpy()  # Example prices\n",
    "example_predictions = predictions[-30:]  # Example predictions (1 for up, 0 for down)\n",
    "\n",
    "final_value = backtest_strategy(prices, example_predictions)\n",
    "roi = ((final_value - initial_capital) / initial_capital) * 100\n",
    "print(f\"Return on Investment (ROI): {roi:.2f}%\")\n",
    "print(f\"Final capital after 30 days: ${final_value:.2f}\")"
   ]
  }
 ],
 "metadata": {
  "kernelspec": {
   "display_name": "Python 3",
   "language": "python",
   "name": "python3"
  },
  "language_info": {
   "codemirror_mode": {
    "name": "ipython",
    "version": 3
   },
   "file_extension": ".py",
   "mimetype": "text/x-python",
   "name": "python",
   "nbconvert_exporter": "python",
   "pygments_lexer": "ipython3",
   "version": "3.11.9"
  }
 },
 "nbformat": 4,
 "nbformat_minor": 2
}
